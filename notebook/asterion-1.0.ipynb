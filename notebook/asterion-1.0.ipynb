{
 "cells": [
  {
   "cell_type": "code",
   "execution_count": 1,
   "metadata": {},
   "outputs": [],
   "source": [
    "from asterion.glitch import HeGlitch, BCZGlitch, Glitch\n",
    "from asterion.asy import FirstOrderAsy\n",
    "import numpyro.distributions as dist\n",
    "import numpyro\n",
    "from numpyro.handlers import scope\n",
    "import astropy.units as u\n",
    "from tinygp import GaussianProcess, kernels"
   ]
  },
  {
   "cell_type": "code",
   "execution_count": 5,
   "metadata": {},
   "outputs": [],
   "source": [
    "from typing import Union, Optional"
   ]
  },
  {
   "cell_type": "code",
   "execution_count": 6,
   "metadata": {},
   "outputs": [],
   "source": [
    "s = u.microhertz.to_string(\"latex_inline\")"
   ]
  },
  {
   "cell_type": "code",
   "execution_count": 74,
   "metadata": {},
   "outputs": [],
   "source": [
    "from collections.abc import MutableMapping, KeysView, ValuesView, ItemsView, Set\n",
    "\n",
    "class Parameter:\n",
    "    \n",
    "    def __init__(self, name: str, symbol: str=\"\", unit: Optional[Union[str, u.Unit]]=None):\n",
    "        self.name = name\n",
    "        \n",
    "        if unit is None:\n",
    "            unit = u.dimensionless_unscaled\n",
    "        \n",
    "        self.unit = u.Unit(unit)\n",
    "        \n",
    "        if not symbol[0] == symbol[-1] == \"$\":\n",
    "            raise ValueError(\"Symbol must start and finish with '$' to constitute valid latex math\")\n",
    "        \n",
    "        self.symbol = symbol\n",
    "        \n",
    "    def __repr__(self):\n",
    "#         if self.unit.is_unity():\n",
    "#             return self.name\n",
    "#         return f\"{self.name} [{self.unit}]\"\n",
    "        unit = \"'\" + self.unit.to_string() + \"'\"\n",
    "        return f\"{self.__class__.__name__}({repr(self.name)}, symbol={repr(self.symbol)}, unit={unit})\"\n",
    "    \n",
    "    def _repr_latex_(self):\n",
    "        if self.unit.is_unity():\n",
    "            return self.symbol\n",
    "        name = self.symbol.strip(\"$\")\n",
    "        unit = self.unit.to_string(\"latex\").strip(\"$\")\n",
    "        return  f\"${name} \\\\left[ {unit} \\\\right]$\"\n",
    "\n",
    "\n",
    "class LogParameter(Parameter):\n",
    "    def __init__(self, parameter, base=\"e\"):\n",
    "        if base not in [\"e\", 10]:\n",
    "            raise NotImplementedError(f\"Base {base} not implemented. Choose from ['e', 10]\")\n",
    "        \n",
    "        if base == \"e\":\n",
    "            name = \"_\".join([\"log\", parameter.name])\n",
    "            symbol = rf\"$\\log\\left({parameter.symbol.strip('$')}\\right)$\"\n",
    "        else:\n",
    "            name = \"_\".join([\"log{base}\", parameter.name])\n",
    "            symbol = rf\"$\\log_{base}\\left({parameter.symbol.strip('$')}\\right)$\"\n",
    "        \n",
    "        unit = u.dimensionless_unscaled\n",
    "        \n",
    "        super().__init__(name, symbol=symbol, unit=unit)\n",
    "        \n",
    "        self.base_parameter = parameter\n",
    "        self.base = base\n",
    "\n",
    "\n",
    "class ParameterCollection(MutableMapping):\n",
    "\n",
    "    def __init__(self, iterable):\n",
    "#         self._parameters = {}\n",
    "        self.store = {}\n",
    "        for value in iterable:\n",
    "            self[value.name] = self._validate(value)\n",
    "\n",
    "    def __iter__(self):\n",
    "        return iter(self.store)\n",
    "#         return iter(self._parameters)\n",
    "        \n",
    "    def __contains__(self, value):\n",
    "        return value in self.store\n",
    "#         return value in self._parameters\n",
    "\n",
    "    def __len__(self):\n",
    "        return len(self.store)\n",
    "#         return len(self._parameters)\n",
    "    \n",
    "    def __getitem__(self, key):\n",
    "        return self.store[key]\n",
    "#         return self._parameters[key]\n",
    "    \n",
    "    def __setitem__(self, key, value):\n",
    "        self.store[key] = self._validate(value)\n",
    "#         self._parameters[key] = self._validate(value)\n",
    "\n",
    "    def __delitem__(self, key):\n",
    "        del self.store[key]\n",
    "#         del self._parameters[key]\n",
    "\n",
    "    def __repr__(self):\n",
    "        return f\"{self.__class__.__name__}({repr(list(self.values()))})\"\n",
    "\n",
    "    def __str__(self):\n",
    "        return str(list(self.values()))\n",
    "        \n",
    "    def _repr_latex_(self):\n",
    "        return \"$\\\\left[\" \\\n",
    "            + \",\".join([value._repr_latex_().strip(\"$\") for value in self.values()]) \\\n",
    "            + \"\\\\right]$\"\n",
    "        \n",
    "    def _validate(self, value):\n",
    "        if not isinstance(value, Parameter):\n",
    "            raise TypeError(f\"Element is of type: '{type(value)}' but must be an instance of 'Parameter'.\")\n",
    "        if value.name in self:\n",
    "            raise KeyError(f\"Parameter with the name '{value.name}' already exists in collection.\")\n",
    "        return value\n",
    "    \n",
    "    def keys(self):\n",
    "        return self.store.keys()\n",
    "    \n",
    "    def values(self):\n",
    "        return self.store.values\n",
    "    \n",
    "    def items(self):\n",
    "        return self.store.items()"
   ]
  },
  {
   "cell_type": "code",
   "execution_count": 80,
   "metadata": {},
   "outputs": [],
   "source": [
    "params = ParameterCollection([\n",
    "    Parameter(\"delta_nu\", unit=\"microHertz\", symbol=r\"$\\Delta\\nu$\"),\n",
    "    Parameter(\"epsilon\", symbol=r\"$\\epsilon$\")\n",
    "])\n",
    "\n",
    "params.update(ParameterCollection([Parameter(\"epslon\", symbol=r\"$\\epsilon$\")]))"
   ]
  },
  {
   "cell_type": "code",
   "execution_count": 81,
   "metadata": {},
   "outputs": [
    {
     "data": {
      "text/plain": [
       "dict_items([('delta_nu', Parameter('delta_nu', symbol='$\\\\Delta\\\\nu$', unit='uHz')), ('epsilon', Parameter('epsilon', symbol='$\\\\epsilon$', unit='')), ('epslon', Parameter('epslon', symbol='$\\\\epsilon$', unit=''))])"
      ]
     },
     "execution_count": 81,
     "metadata": {},
     "output_type": "execute_result"
    }
   ],
   "source": [
    "params.items()"
   ]
  },
  {
   "cell_type": "code",
   "execution_count": 77,
   "metadata": {},
   "outputs": [],
   "source": [
    "other_params = params = ParameterCollection([\n",
    "    Parameter(\"delta_\", unit=\"microHertz\", symbol=r\"$\\Delta\\nu$\"),\n",
    "])"
   ]
  },
  {
   "cell_type": "code",
   "execution_count": 85,
   "metadata": {},
   "outputs": [],
   "source": [
    "import warnings\n",
    "import jax.numpy as jnp"
   ]
  },
  {
   "cell_type": "code",
   "execution_count": 86,
   "metadata": {},
   "outputs": [],
   "source": [
    "class CircularTransform(dist.transforms.Transform):\n",
    "    codomain = dist.constraints.circular\n",
    "    \n",
    "    def __call__(self, x):\n",
    "        return jnp.remainder(x + jnp.pi, 2 * jnp.pi) - jnp.pi\n",
    "\n",
    "    def _inverse(self, y):\n",
    "        warnings.warn(\n",
    "            \"CircularTransform is not a bijective transform.\"\n",
    "            \" The inverse of `y` will be `y`.\",\n",
    "            stacklevel=find_stack_level(),\n",
    "        )\n",
    "        return y"
   ]
  },
  {
   "cell_type": "code",
   "execution_count": 87,
   "metadata": {},
   "outputs": [],
   "source": [
    "from numpyro.infer.reparam import TransformReparam\n",
    "from numpyro.handlers import reparam"
   ]
  },
  {
   "cell_type": "code",
   "execution_count": 93,
   "metadata": {},
   "outputs": [],
   "source": [
    "class ModelParameterWarning(Warning):\n",
    "    def __init__(self, name):\n",
    "        super().__init__(f\"Model parameter '{name}' is not registered in model.params\")"
   ]
  },
  {
   "cell_type": "code",
   "execution_count": 10,
   "metadata": {},
   "outputs": [],
   "source": [
    "divider = \"/\"\n",
    "\n",
    "class Model:\n",
    "    params: ParameterCollection\n",
    "\n",
    "        \n",
    "# class GlitchMean:\n",
    "#     # a function of functions\n",
    "#     def __init__(self, asy_func, he_glitch, bcz_glitch):\n",
    "#         self.asy_func = asy_func\n",
    "#         self.he_glitch = he_glitch\n",
    "#         self.bcz_glitch = bcz_glitch\n",
    "    \n",
    "#     def __call__(self, n)\n",
    "#         nu_asy = numpyro.deterministic(\"nu_asy\", self.asy_func(n))\n",
    "#         dnu_he = numpyro.deterministic(\"dnu_he\", self.he_func(nu_asy))\n",
    "#         dnu_bcz = numpyro.deterministic(\"dnu_bcz\", self.bcz_func(nu_asy))\n",
    "#         return nu_asy + dnu_he + dnu_bcz\n",
    "\n",
    "    \n",
    "class GlitchModelFactory:\n",
    "    # takes all model parameters and builds a gp and mean function\n",
    "    def __init__(self, delta_nu, epsilon, a_he, b_he, tau_he, phi_he\n",
    "                 a_cz, tau_cz, phi_cz, kerenl_var, kernel_scale, diag):\n",
    "        self.asy_func = FirstOrderAsy(delta_nu, epsilon)\n",
    "        self.he_glitch = HeGlitch(a_he, b_he, tau_he, phi_he)\n",
    "        self.cz_glitch = BCZGlitch(a_cz, tau_cz, phi_cz)\n",
    "        \n",
    "        self.kernel = kernel_var * kernels.ExpSquared(kernel_scale)   \n",
    "        self.diag = diag\n",
    "    \n",
    "    def mean(self, n):\n",
    "        nu_asy = numpyro.deterministic(\"nu_asy\", self.asy_func(n))\n",
    "        dnu_he = numpyro.deterministic(\"dnu_he\", self.he_func(nu_asy))\n",
    "        dnu_bcz = numpyro.deterministic(\"dnu_bcz\", self.bcz_func(nu_asy))\n",
    "        return nu_asy + dnu_he + dnu_bcz\n",
    "\n",
    "    def gp(self, n):\n",
    "        return GaussianProcess(self.kernel, n, diag=self.diag)\n",
    "\n",
    "class GlitchModel(Model):\n",
    "    _he = r\"\\mathrm{He}\"\n",
    "    _bcz = r\"\\mathrm{BCZ}\"\n",
    "    \n",
    "    # metadata about model parameters\n",
    "    params = ParameterCollection([\n",
    "        Parameter(\"delta_nu\", symbol=r\"$\\Delta\\nu$\", unit=u.microhertz),\n",
    "        Parameter(\"epsilon\", symbol=r\"$\\epsilon$\"),\n",
    "        Parameter(\"a_he\", symbol=rf\"$a_{_he}$\"),\n",
    "        Parameter(\"b_he\", symbol=rf\"$b_{_he}$\", unit=u.megasecond**2),\n",
    "        Parameter(\"tau_he\", symbol=rf\"$\\tau_{_he}$\", unit=u.megasecond),\n",
    "        Parameter(\"phi_he\", symbol=rf\"$\\phi_{_he}$\", unit=u.rad),\n",
    "        Parameter(\"a_bcz\", symbol=rf\"$a_{_bcz}$\", unit=u.microhertz**3),\n",
    "        Parameter(\"tau_bcz\", symbol=rf\"$\\tau_{_bcz}$\", unit=u.megasecond),\n",
    "        Parameter(\"phi_bcz\", symbol=rf\"$\\phi_{_bcz}$\", unit=u.rad),\n",
    "        Parameter(\"<A_he>\", symbol=rf\"$\\langle A_{_he} \\rangle$\", unit=u.microhertz),\n",
    "        Parameter(\"<A_bcz>\", symbol=rf\"$\\langle A_{_bcz} \\rangle$\", unit=u.microhertz),\n",
    "        Parameter(\"nu_asy\", symbol=r\"$\\nu_\\mathrm{asy}$\", unit=u.microhertz),\n",
    "        Parameter(\"dnu_he\", symbol=rf\"$\\delta\\nu_{_he}$\", unit=u.microhertz),\n",
    "        Parameter(\"dnu_bcz\", symbol=rf\"$\\delta\\nu_{_bcz}$\", unit=u.microhertz),\n",
    "        Parameter(\"kernel_var\", symbol=rf\"$\\sigma_k^2$\", unit=u.microhertz),\n",
    "        Parameter(\"kernel_scale\", symbol=rf\"$\\lambda_k$\"),\n",
    "        Parameter(\"nu\", symbol=r\"$\\nu$\", unit=u.microhertz),\n",
    "        Parameter(\"f\", symbol=r\"$f$\", unit=u.microhertz),  # GP noiseless\n",
    "        Parameter(\"y\", symbol=r\"$y$\", unit=u.microhertz),  # GP obs\n",
    "    ])\n",
    "\n",
    "    # log params\n",
    "    params.update(\n",
    "        ParameterCollection([\n",
    "            LogParameter(params[\"a_he\"]),\n",
    "            LogParameter(params[\"b_he\"]),\n",
    "            LogParameter(params[\"tau_he\"]),\n",
    "            LogParameter(params[\"a_bcz\"]),\n",
    "            LogParameter(params[\"tau_bcz\"]),\n",
    "        ])\n",
    "    )\n",
    "\n",
    "    def __init__(\n",
    "        self,\n",
    "        *,\n",
    "        delta_nu,\n",
    "        log_tau_he,\n",
    "        log_tau_bcz,\n",
    "        low=None,\n",
    "        high=None,\n",
    "        **prior,\n",
    "    ):\n",
    "        \n",
    "        \n",
    "        self.prior = prior\n",
    "        \n",
    "        # Required prior\n",
    "        self.prior[\"delta_nu\"] = delta_nu\n",
    "        self.prior[\"log_tau_he\"] = log_tau_he\n",
    "        self.prior[\"log_tau_bcz\"] = log_tau_bcz\n",
    "        \n",
    "        # Optional prior\n",
    "        self.prior.setdefault(\"epsilon\", dist.Normal(1.2, 0.3))\n",
    "        self.prior.setdefault(\"log_a_he\", dist.Normal())\n",
    "        \n",
    "        self.low = low\n",
    "        self.high = high\n",
    "\n",
    "    \n",
    "    def sample_asy_func(self):\n",
    "        \"\"\"Sample the asy function.\"\"\"\n",
    "        delta_nu = numpyro.sample(\"delta_nu\", self.prior[\"delta_nu\"])\n",
    "        epsilon = numpyro.sample(\"epsilon\", self.prior[\"epsilon\"])\n",
    "        return FirstOrderAsy(delta_nu, epsilon)\n",
    "\n",
    "    def sample_he_func(self) -> HeGlitch:\n",
    "        \"\"\"Sample the helium glitch function.\"\"\"\n",
    "        a = numpyro.deterministic(\n",
    "            \"a_he\",\n",
    "            jnp.exp(numpyro.sample(\"log_a_he\", self.prior[\"log_a_he\"])),\n",
    "        )\n",
    "\n",
    "        b = numpyro.deterministic(\n",
    "            jnp.exp(numpyro.sample(\"log_b_he\", self.prior[\"log_b_he\"])),\n",
    "        )\n",
    "\n",
    "        tau = numpyro.deterministic(\n",
    "            \"tau_he\",\n",
    "            jnp.exp(numpyro.sample(\"log_tau_he\", self.prior[\"log_tau_he\"])),\n",
    "        )\n",
    "\n",
    "        phi = numpyro.sample(\"phi_he\", self.prior[\"phi_he\"])\n",
    "\n",
    "        return HeGlitch(a, b, tau, phi)\n",
    "    \n",
    "    def sample_bcz_func(self) -> BCZGlitch:\n",
    "        \"\"\"Sample the BCZ glitch function.\"\"\"\n",
    "        a = numpyro.deterministic(\n",
    "            \"a_bcz\",\n",
    "            jnp.exp(numpyro.sample(\"log_a_bcz\", self.prior[\"log_a_bcz\"])),\n",
    "        )\n",
    "\n",
    "        tau = numpyro.deterministic(\n",
    "            \"tau_bcz\",\n",
    "            jnp.exp(numpyro.sample(\"log_tau_bcz\", self.prior[\"log_tau_bcz\"])),\n",
    "        )\n",
    "\n",
    "        phi = numpyro.sample(\"phi_bcz\", self.prior[\"phi_bcz\"])\n",
    "\n",
    "        return BCZGlitch(a, tau, phi)\n",
    "    \n",
    "    def sample_mean(self):\n",
    "        # Sample from function priors\n",
    "        asy_func = self.sample_asy_func()\n",
    "        he_func = self.sample_he_func()\n",
    "        bcz_func = self.sample_bcz_func()\n",
    "        \n",
    "        return GlitchMean(asy_func, he_func, bcz_glitch)\n",
    "        \n",
    "    def sample_kernel(self) -> kernels.Kernel:\n",
    "        amp = numpyro.sample(\"kernel_var\", self.prior[\"kernel_var\"])\n",
    "        scale = numpyro.sample(\"kernel_scale\", self.prior[\"kernel_scale\"])\n",
    "        return amp * kernels.ExpSquared(scale)        \n",
    "    \n",
    "    def predict(self, gp, y, n, mean=None):\n",
    "        \"\"\"Predict nu given conditioned gp and mean.\"\"\"\n",
    "        cond = gp.condition(y, n) # conditioned result \n",
    "\n",
    "        if mean is None:\n",
    "            # E.g. if mean is zero or inclided in GP\n",
    "            return numpyro.sample(\"nu\", cond.gp.numpyro_dist())\n",
    "        \n",
    "        # Manually add on mean\n",
    "        nu_mean = mean\n",
    "        if callable(mean):\n",
    "            nu_mean = mean(n)\n",
    "\n",
    "        f = numpyro.sample(\"f\", cond.gp.numpyro_dist())\n",
    "        return numpyro.deterministic(\"nu\", nu_mean + f)\n",
    "    \n",
    "    def average_amplitude(self, nu):\n",
    "        low = nu.min() if self.low is None else self.low\n",
    "        high = nu.max() if self.high is None else self.high\n",
    "\n",
    "        A_he = numpyro.deterministic(\n",
    "            \"<A_he>\", \n",
    "            mean.he_func.average_amplitude(low, high)\n",
    "        )\n",
    "        A_bcz = numpyro.deterministic(\n",
    "            \"<A_bcz>\", \n",
    "            mean.bcz_func.average_amplitude(low, high)\n",
    "        )\n",
    "        return A_he, A_bcz\n",
    "\n",
    "    def __call__(self, n, nu=None, diag=None, n_pred=None):\n",
    "        \n",
    "        mean = self.sample_mean()\n",
    "        kernel = self.sample_kernel()\n",
    "        gp = GaussianProcess(kernel, n, diag=diag)\n",
    "        # replace this with something that returns the gp and mean\n",
    "        # given the parameters\n",
    "        nu_mean = numpyro.deterministic(\"nu_mean\", mean(n))\n",
    "        \n",
    "        obs = None\n",
    "        if nu is not None:\n",
    "            obs = nu - nu_mean\n",
    "\n",
    "        y = numpyro.sample(\"y\", gp.numpyro_dist(), obs=obs)\n",
    "        \n",
    "        # Predict 'true' nu and compute average amplitudes\n",
    "        self.average_amplitude(\n",
    "            self.predict(gp, y, n, mean=nu_mean)\n",
    "        )\n",
    "        \n",
    "        # Predict nu for given radial orders 'n_pred'\n",
    "        if n_pred is not None:\n",
    "            # Predict under the pred scope\n",
    "            scope(\n",
    "                self.predict, prefix=\"pred\", divider=divider\n",
    "            )(\n",
    "                gp,\n",
    "                y,\n",
    "                n_pred, \n",
    "                mean=numpyro.deterministic(\"nu_mean\", mean(n_pred))\n",
    "            )"
   ]
  },
  {
   "cell_type": "code",
   "execution_count": null,
   "metadata": {},
   "outputs": [],
   "source": [
    "def build_gp():\n",
    "    # returns the gp and the mean function\n",
    "    return GaussianProcess(kernel, n, diag=diag)\n",
    "\n",
    "def log_like"
   ]
  },
  {
   "cell_type": "code",
   "execution_count": 102,
   "metadata": {},
   "outputs": [],
   "source": [
    "class A:\n",
    "    def __init__(self):\n",
    "        self.a = None"
   ]
  },
  {
   "cell_type": "code",
   "execution_count": 18,
   "metadata": {},
   "outputs": [
    {
     "data": {
      "text/plain": [
       "True"
      ]
     },
     "execution_count": 18,
     "metadata": {},
     "output_type": "execute_result"
    }
   ],
   "source": [
    "from collections.abc import ValuesView\n",
    "isinstance(GlitchModel.params.values(), ValuesView)"
   ]
  },
  {
   "cell_type": "code",
   "execution_count": 19,
   "metadata": {},
   "outputs": [
    {
     "data": {
      "text/plain": [
       "dict_items([('delta_nu', Parameter('delta_nu', symbol='$\\\\Delta\\\\nu$', unit='uHz')), ('epsilon', Parameter('epsilon', symbol='$\\\\epsilon$', unit='')), ('a_he', Parameter('a_he', symbol='$a_\\\\mathrm{He}$', unit='')), ('b_he', Parameter('b_he', symbol='$b_\\\\mathrm{He}$', unit='Ms2')), ('tau_he', Parameter('tau_he', symbol='$\\\\tau_\\\\mathrm{He}$', unit='Ms')), ('phi_he', Parameter('phi_he', symbol='$\\\\phi_\\\\mathrm{He}$', unit='rad')), ('a_bcz', Parameter('a_bcz', symbol='$a_\\\\mathrm{BCZ}$', unit='uHz3')), ('tau_bcz', Parameter('tau_bcz', symbol='$\\\\tau_\\\\mathrm{BCZ}$', unit='Ms')), ('phi_bcz', Parameter('phi_bcz', symbol='$\\\\phi_\\\\mathrm{BCZ}$', unit='rad')), ('<A_he>', Parameter('<A_he>', symbol='$\\\\langle A_\\\\mathrm{He} \\\\rangle$', unit='uHz')), ('<A_bcz>', Parameter('<A_bcz>', symbol='$\\\\langle A_\\\\mathrm{BCZ} \\\\rangle$', unit='uHz')), ('nu_asy', Parameter('nu_asy', symbol='$\\\\nu_\\\\mathrm{asy}$', unit='uHz')), ('dnu_he', Parameter('dnu_he', symbol='$\\\\delta\\\\nu_\\\\mathrm{He}$', unit='uHz')), ('dnu_bcz', Parameter('dnu_bcz', symbol='$\\\\delta\\\\nu_\\\\mathrm{BCZ}$', unit='uHz')), ('kernel_var', Parameter('kernel_var', symbol='$\\\\sigma_k^2$', unit='uHz')), ('kernel_scale', Parameter('kernel_scale', symbol='$\\\\lambda_k$', unit='')), ('nu', Parameter('nu', symbol='$\\\\nu$', unit='uHz')), ('f', Parameter('f', symbol='$f$', unit='uHz')), ('y', Parameter('y', symbol='$y$', unit='uHz')), ('log_a_he', LogParameter('log_a_he', symbol='$\\\\log\\\\left(a_\\\\mathrm{He}\\\\right)$', unit='')), ('log_b_he', LogParameter('log_b_he', symbol='$\\\\log\\\\left(b_\\\\mathrm{He}\\\\right)$', unit='')), ('log_tau_he', LogParameter('log_tau_he', symbol='$\\\\log\\\\left(\\\\tau_\\\\mathrm{He}\\\\right)$', unit='')), ('log_a_bcz', LogParameter('log_a_bcz', symbol='$\\\\log\\\\left(a_\\\\mathrm{BCZ}\\\\right)$', unit='')), ('log_tau_bcz', LogParameter('log_tau_bcz', symbol='$\\\\log\\\\left(\\\\tau_\\\\mathrm{BCZ}\\\\right)$', unit=''))])"
      ]
     },
     "execution_count": 19,
     "metadata": {},
     "output_type": "execute_result"
    }
   ],
   "source": [
    "GlitchModel.params._parameters.items()"
   ]
  },
  {
   "cell_type": "code",
   "execution_count": 20,
   "metadata": {},
   "outputs": [
    {
     "data": {
      "text/plain": [
       "ItemsView(ParameterCollection([Parameter('delta_nu', symbol='$\\\\Delta\\\\nu$', unit='uHz'), Parameter('epsilon', symbol='$\\\\epsilon$', unit=''), Parameter('a_he', symbol='$a_\\\\mathrm{He}$', unit=''), Parameter('b_he', symbol='$b_\\\\mathrm{He}$', unit='Ms2'), Parameter('tau_he', symbol='$\\\\tau_\\\\mathrm{He}$', unit='Ms'), Parameter('phi_he', symbol='$\\\\phi_\\\\mathrm{He}$', unit='rad'), Parameter('a_bcz', symbol='$a_\\\\mathrm{BCZ}$', unit='uHz3'), Parameter('tau_bcz', symbol='$\\\\tau_\\\\mathrm{BCZ}$', unit='Ms'), Parameter('phi_bcz', symbol='$\\\\phi_\\\\mathrm{BCZ}$', unit='rad'), Parameter('<A_he>', symbol='$\\\\langle A_\\\\mathrm{He} \\\\rangle$', unit='uHz'), Parameter('<A_bcz>', symbol='$\\\\langle A_\\\\mathrm{BCZ} \\\\rangle$', unit='uHz'), Parameter('nu_asy', symbol='$\\\\nu_\\\\mathrm{asy}$', unit='uHz'), Parameter('dnu_he', symbol='$\\\\delta\\\\nu_\\\\mathrm{He}$', unit='uHz'), Parameter('dnu_bcz', symbol='$\\\\delta\\\\nu_\\\\mathrm{BCZ}$', unit='uHz'), Parameter('kernel_var', symbol='$\\\\sigma_k^2$', unit='uHz'), Parameter('kernel_scale', symbol='$\\\\lambda_k$', unit=''), Parameter('nu', symbol='$\\\\nu$', unit='uHz'), Parameter('f', symbol='$f$', unit='uHz'), Parameter('y', symbol='$y$', unit='uHz'), LogParameter('log_a_he', symbol='$\\\\log\\\\left(a_\\\\mathrm{He}\\\\right)$', unit=''), LogParameter('log_b_he', symbol='$\\\\log\\\\left(b_\\\\mathrm{He}\\\\right)$', unit=''), LogParameter('log_tau_he', symbol='$\\\\log\\\\left(\\\\tau_\\\\mathrm{He}\\\\right)$', unit=''), LogParameter('log_a_bcz', symbol='$\\\\log\\\\left(a_\\\\mathrm{BCZ}\\\\right)$', unit=''), LogParameter('log_tau_bcz', symbol='$\\\\log\\\\left(\\\\tau_\\\\mathrm{BCZ}\\\\right)$', unit='')]))"
      ]
     },
     "execution_count": 20,
     "metadata": {},
     "output_type": "execute_result"
    }
   ],
   "source": [
    "GlitchModel.params.items()"
   ]
  },
  {
   "cell_type": "code",
   "execution_count": 21,
   "metadata": {},
   "outputs": [
    {
     "data": {
      "text/plain": [
       "ValuesView({'delta_nu': Parameter('delta_nu', symbol='$\\\\Delta\\\\nu$', unit='uHz'), 'epsilon': Parameter('epsilon', symbol='$\\\\epsilon$', unit=''), 'a_he': Parameter('a_he', symbol='$a_\\\\mathrm{He}$', unit=''), 'b_he': Parameter('b_he', symbol='$b_\\\\mathrm{He}$', unit='Ms2'), 'tau_he': Parameter('tau_he', symbol='$\\\\tau_\\\\mathrm{He}$', unit='Ms'), 'phi_he': Parameter('phi_he', symbol='$\\\\phi_\\\\mathrm{He}$', unit='rad'), 'a_bcz': Parameter('a_bcz', symbol='$a_\\\\mathrm{BCZ}$', unit='uHz3'), 'tau_bcz': Parameter('tau_bcz', symbol='$\\\\tau_\\\\mathrm{BCZ}$', unit='Ms'), 'phi_bcz': Parameter('phi_bcz', symbol='$\\\\phi_\\\\mathrm{BCZ}$', unit='rad'), '<A_he>': Parameter('<A_he>', symbol='$\\\\langle A_\\\\mathrm{He} \\\\rangle$', unit='uHz'), '<A_bcz>': Parameter('<A_bcz>', symbol='$\\\\langle A_\\\\mathrm{BCZ} \\\\rangle$', unit='uHz'), 'nu_asy': Parameter('nu_asy', symbol='$\\\\nu_\\\\mathrm{asy}$', unit='uHz'), 'dnu_he': Parameter('dnu_he', symbol='$\\\\delta\\\\nu_\\\\mathrm{He}$', unit='uHz'), 'dnu_bcz': Parameter('dnu_bcz', symbol='$\\\\delta\\\\nu_\\\\mathrm{BCZ}$', unit='uHz'), 'kernel_var': Parameter('kernel_var', symbol='$\\\\sigma_k^2$', unit='uHz'), 'kernel_scale': Parameter('kernel_scale', symbol='$\\\\lambda_k$', unit=''), 'nu': Parameter('nu', symbol='$\\\\nu$', unit='uHz'), 'f': Parameter('f', symbol='$f$', unit='uHz'), 'y': Parameter('y', symbol='$y$', unit='uHz'), 'log_a_he': LogParameter('log_a_he', symbol='$\\\\log\\\\left(a_\\\\mathrm{He}\\\\right)$', unit=''), 'log_b_he': LogParameter('log_b_he', symbol='$\\\\log\\\\left(b_\\\\mathrm{He}\\\\right)$', unit=''), 'log_tau_he': LogParameter('log_tau_he', symbol='$\\\\log\\\\left(\\\\tau_\\\\mathrm{He}\\\\right)$', unit=''), 'log_a_bcz': LogParameter('log_a_bcz', symbol='$\\\\log\\\\left(a_\\\\mathrm{BCZ}\\\\right)$', unit=''), 'log_tau_bcz': LogParameter('log_tau_bcz', symbol='$\\\\log\\\\left(\\\\tau_\\\\mathrm{BCZ}\\\\right)$', unit='')})"
      ]
     },
     "execution_count": 21,
     "metadata": {},
     "output_type": "execute_result"
    }
   ],
   "source": [
    "ValuesView(GlitchModel.params._parameters)"
   ]
  },
  {
   "cell_type": "code",
   "execution_count": 97,
   "metadata": {},
   "outputs": [
    {
     "data": {
      "text/plain": [
       "1"
      ]
     },
     "execution_count": 97,
     "metadata": {},
     "output_type": "execute_result"
    }
   ],
   "source": [
    "d = {}\n",
    "d.setdefault(\"a\", 1)"
   ]
  },
  {
   "cell_type": "code",
   "execution_count": 98,
   "metadata": {},
   "outputs": [
    {
     "data": {
      "text/plain": [
       "{'a': 1}"
      ]
     },
     "execution_count": 98,
     "metadata": {},
     "output_type": "execute_result"
    }
   ],
   "source": [
    "d"
   ]
  },
  {
   "cell_type": "code",
   "execution_count": null,
   "metadata": {},
   "outputs": [],
   "source": []
  }
 ],
 "metadata": {
  "kernelspec": {
   "display_name": "Python 3.9 (asterion)",
   "language": "python",
   "name": "asterion"
  },
  "language_info": {
   "codemirror_mode": {
    "name": "ipython",
    "version": 3
   },
   "file_extension": ".py",
   "mimetype": "text/x-python",
   "name": "python",
   "nbconvert_exporter": "python",
   "pygments_lexer": "ipython3",
   "version": "3.9.12"
  }
 },
 "nbformat": 4,
 "nbformat_minor": 5
}

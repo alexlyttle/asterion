{
 "cells": [
  {
   "cell_type": "code",
   "execution_count": 1,
   "metadata": {},
   "outputs": [],
   "source": [
    "import numpy as np\n",
    "import pandas as pd\n",
    "import arviz as az\n",
    "import numpyro\n",
    "import numpyro.infer.initialization as init\n",
    "import matplotlib.pyplot as plt\n",
    "\n",
    "from jax import random\n",
    "from numpyro.infer import MCMC, NUTS, SVI\n",
    "from numpyro.optim import Adam\n",
    "from numpyro.infer.autoguide import AutoDelta, Trace_ELBO\n",
    "\n",
    "from asteroglitch.model import Prior, Observed, Posterior"
   ]
  },
  {
   "cell_type": "code",
   "execution_count": 2,
   "metadata": {},
   "outputs": [
    {
     "data": {
      "text/html": [
       "<div>\n",
       "<style scoped>\n",
       "    .dataframe tbody tr th:only-of-type {\n",
       "        vertical-align: middle;\n",
       "    }\n",
       "\n",
       "    .dataframe tbody tr th {\n",
       "        vertical-align: top;\n",
       "    }\n",
       "\n",
       "    .dataframe thead th {\n",
       "        text-align: right;\n",
       "    }\n",
       "</style>\n",
       "<table border=\"1\" class=\"dataframe\">\n",
       "  <thead>\n",
       "    <tr style=\"text-align: right;\">\n",
       "      <th></th>\n",
       "      <th>frac_age</th>\n",
       "      <th>delta_nu_fit</th>\n",
       "      <th>nu_max</th>\n",
       "      <th>nu_0_1</th>\n",
       "      <th>nu_0_2</th>\n",
       "      <th>nu_0_3</th>\n",
       "      <th>nu_0_4</th>\n",
       "      <th>nu_0_5</th>\n",
       "      <th>nu_0_6</th>\n",
       "      <th>nu_0_7</th>\n",
       "      <th>...</th>\n",
       "      <th>nu_0_32</th>\n",
       "      <th>nu_0_33</th>\n",
       "      <th>nu_0_34</th>\n",
       "      <th>nu_0_35</th>\n",
       "      <th>nu_0_36</th>\n",
       "      <th>nu_0_37</th>\n",
       "      <th>nu_0_38</th>\n",
       "      <th>nu_0_39</th>\n",
       "      <th>nu_0_40</th>\n",
       "      <th>surface_he4</th>\n",
       "    </tr>\n",
       "  </thead>\n",
       "  <tbody>\n",
       "    <tr>\n",
       "      <th>0</th>\n",
       "      <td>0.000016</td>\n",
       "      <td>11.884045</td>\n",
       "      <td>150.680452</td>\n",
       "      <td>0.0</td>\n",
       "      <td>34.481794</td>\n",
       "      <td>49.329712</td>\n",
       "      <td>63.195077</td>\n",
       "      <td>75.913367</td>\n",
       "      <td>87.630758</td>\n",
       "      <td>99.483102</td>\n",
       "      <td>...</td>\n",
       "      <td>392.064627</td>\n",
       "      <td>403.710370</td>\n",
       "      <td>415.297909</td>\n",
       "      <td>426.924218</td>\n",
       "      <td>438.655667</td>\n",
       "      <td>450.550178</td>\n",
       "      <td>462.546781</td>\n",
       "      <td>474.658899</td>\n",
       "      <td>486.825847</td>\n",
       "      <td>0.239966</td>\n",
       "    </tr>\n",
       "    <tr>\n",
       "      <th>1</th>\n",
       "      <td>0.000017</td>\n",
       "      <td>12.140476</td>\n",
       "      <td>154.893200</td>\n",
       "      <td>0.0</td>\n",
       "      <td>35.203007</td>\n",
       "      <td>50.376320</td>\n",
       "      <td>64.548471</td>\n",
       "      <td>77.583389</td>\n",
       "      <td>89.569246</td>\n",
       "      <td>101.679667</td>\n",
       "      <td>...</td>\n",
       "      <td>400.620086</td>\n",
       "      <td>412.538305</td>\n",
       "      <td>424.386957</td>\n",
       "      <td>436.252351</td>\n",
       "      <td>448.212638</td>\n",
       "      <td>460.326691</td>\n",
       "      <td>472.558635</td>\n",
       "      <td>484.919720</td>\n",
       "      <td>497.325734</td>\n",
       "      <td>0.239967</td>\n",
       "    </tr>\n",
       "    <tr>\n",
       "      <th>2</th>\n",
       "      <td>0.000017</td>\n",
       "      <td>12.343045</td>\n",
       "      <td>158.238356</td>\n",
       "      <td>0.0</td>\n",
       "      <td>35.772049</td>\n",
       "      <td>51.202159</td>\n",
       "      <td>65.616199</td>\n",
       "      <td>78.900744</td>\n",
       "      <td>91.100159</td>\n",
       "      <td>103.413323</td>\n",
       "      <td>...</td>\n",
       "      <td>407.368711</td>\n",
       "      <td>419.505074</td>\n",
       "      <td>431.563921</td>\n",
       "      <td>443.619056</td>\n",
       "      <td>455.762984</td>\n",
       "      <td>468.048949</td>\n",
       "      <td>480.469626</td>\n",
       "      <td>493.018551</td>\n",
       "      <td>505.616340</td>\n",
       "      <td>0.239968</td>\n",
       "    </tr>\n",
       "    <tr>\n",
       "      <th>3</th>\n",
       "      <td>0.000018</td>\n",
       "      <td>12.503403</td>\n",
       "      <td>160.898485</td>\n",
       "      <td>0.0</td>\n",
       "      <td>36.222266</td>\n",
       "      <td>51.855582</td>\n",
       "      <td>66.460893</td>\n",
       "      <td>79.942765</td>\n",
       "      <td>92.312228</td>\n",
       "      <td>104.785371</td>\n",
       "      <td>...</td>\n",
       "      <td>412.708426</td>\n",
       "      <td>425.019262</td>\n",
       "      <td>437.245702</td>\n",
       "      <td>449.452226</td>\n",
       "      <td>461.742276</td>\n",
       "      <td>474.164224</td>\n",
       "      <td>486.734715</td>\n",
       "      <td>499.427290</td>\n",
       "      <td>512.179364</td>\n",
       "      <td>0.239969</td>\n",
       "    </tr>\n",
       "    <tr>\n",
       "      <th>4</th>\n",
       "      <td>0.000018</td>\n",
       "      <td>12.633487</td>\n",
       "      <td>163.061612</td>\n",
       "      <td>0.0</td>\n",
       "      <td>36.587368</td>\n",
       "      <td>52.385499</td>\n",
       "      <td>67.145867</td>\n",
       "      <td>80.787635</td>\n",
       "      <td>93.295718</td>\n",
       "      <td>105.898357</td>\n",
       "      <td>...</td>\n",
       "      <td>417.037759</td>\n",
       "      <td>429.491253</td>\n",
       "      <td>441.854064</td>\n",
       "      <td>454.184875</td>\n",
       "      <td>466.594022</td>\n",
       "      <td>479.127384</td>\n",
       "      <td>491.819429</td>\n",
       "      <td>504.626946</td>\n",
       "      <td>517.505773</td>\n",
       "      <td>0.239969</td>\n",
       "    </tr>\n",
       "  </tbody>\n",
       "</table>\n",
       "<p>5 rows × 44 columns</p>\n",
       "</div>"
      ],
      "text/plain": [
       "   frac_age  delta_nu_fit      nu_max  nu_0_1     nu_0_2     nu_0_3  \\\n",
       "0  0.000016     11.884045  150.680452     0.0  34.481794  49.329712   \n",
       "1  0.000017     12.140476  154.893200     0.0  35.203007  50.376320   \n",
       "2  0.000017     12.343045  158.238356     0.0  35.772049  51.202159   \n",
       "3  0.000018     12.503403  160.898485     0.0  36.222266  51.855582   \n",
       "4  0.000018     12.633487  163.061612     0.0  36.587368  52.385499   \n",
       "\n",
       "      nu_0_4     nu_0_5     nu_0_6      nu_0_7  ...     nu_0_32     nu_0_33  \\\n",
       "0  63.195077  75.913367  87.630758   99.483102  ...  392.064627  403.710370   \n",
       "1  64.548471  77.583389  89.569246  101.679667  ...  400.620086  412.538305   \n",
       "2  65.616199  78.900744  91.100159  103.413323  ...  407.368711  419.505074   \n",
       "3  66.460893  79.942765  92.312228  104.785371  ...  412.708426  425.019262   \n",
       "4  67.145867  80.787635  93.295718  105.898357  ...  417.037759  429.491253   \n",
       "\n",
       "      nu_0_34     nu_0_35     nu_0_36     nu_0_37     nu_0_38     nu_0_39  \\\n",
       "0  415.297909  426.924218  438.655667  450.550178  462.546781  474.658899   \n",
       "1  424.386957  436.252351  448.212638  460.326691  472.558635  484.919720   \n",
       "2  431.563921  443.619056  455.762984  468.048949  480.469626  493.018551   \n",
       "3  437.245702  449.452226  461.742276  474.164224  486.734715  499.427290   \n",
       "4  441.854064  454.184875  466.594022  479.127384  491.819429  504.626946   \n",
       "\n",
       "      nu_0_40  surface_he4  \n",
       "0  486.825847     0.239966  \n",
       "1  497.325734     0.239967  \n",
       "2  505.616340     0.239968  \n",
       "3  512.179364     0.239969  \n",
       "4  517.505773     0.239969  \n",
       "\n",
       "[5 rows x 44 columns]"
      ]
     },
     "execution_count": 2,
     "metadata": {},
     "output_type": "execute_result"
    }
   ],
   "source": [
    "track = pd.read_csv('../examples/data/modes.csv')\n",
    "track.head()"
   ]
  },
  {
   "cell_type": "code",
   "execution_count": 3,
   "metadata": {},
   "outputs": [],
   "source": [
    "profile = track.loc[600]"
   ]
  },
  {
   "cell_type": "code",
   "execution_count": 4,
   "metadata": {},
   "outputs": [],
   "source": [
    "nu_index = [f'nu_0_{i}' for i in range(10, 30)]\n",
    "\n",
    "def get_nu(profile):\n",
    "    nu = profile[nu_index].to_numpy().astype(float)\n",
    "    nu = nu[nu > 0.0]  # Values equal to zero correspond to no calculation\n",
    "    return nu\n",
    "\n",
    "nu = get_nu(profile)"
   ]
  },
  {
   "cell_type": "code",
   "execution_count": 5,
   "metadata": {},
   "outputs": [],
   "source": [
    "n = np.arange(10, 30)"
   ]
  },
  {
   "cell_type": "code",
   "execution_count": 6,
   "metadata": {},
   "outputs": [
    {
     "name": "stdout",
     "output_type": "stream",
     "text": [
      "nu_max ~ 2853.19 muHz\n",
      "delta_nu ~ 128.7 muHz\n"
     ]
    }
   ],
   "source": [
    "# Scaling relation nu_max\n",
    "nu_max_sca = profile['nu_max']\n",
    "print('nu_max ~', round(nu_max_sca, 2), 'muHz')\n",
    "\n",
    "# Delta_nu fit to radial modes about nu_max\n",
    "delta_nu_fit = profile['delta_nu_fit']\n",
    "print('delta_nu ~', round(delta_nu_fit, 2), 'muHz')"
   ]
  },
  {
   "cell_type": "code",
   "execution_count": 7,
   "metadata": {},
   "outputs": [],
   "source": [
    "nu_err = 1e-6 * (nu - nu_max_sca)**2"
   ]
  },
  {
   "cell_type": "code",
   "execution_count": 8,
   "metadata": {},
   "outputs": [],
   "source": [
    "nu_obs = np.random.normal(nu, nu_err)"
   ]
  },
  {
   "cell_type": "code",
   "execution_count": 9,
   "metadata": {},
   "outputs": [
    {
     "data": {
      "text/plain": [
       "<matplotlib.legend.Legend at 0x12d9bc8b0>"
      ]
     },
     "execution_count": 9,
     "metadata": {},
     "output_type": "execute_result"
    },
    {
     "data": {
      "image/png": "[encoded data removed]",
      "text/plain": [
       "<Figure size 432x288 with 1 Axes>"
      ]
     },
     "metadata": {
      "needs_background": "light"
     },
     "output_type": "display_data"
    }
   ],
   "source": [
    "nu_mod = nu % delta_nu_fit\n",
    "nu_mod_obs = nu_obs % delta_nu_fit\n",
    "\n",
    "fig, ax = plt.subplots()\n",
    "\n",
    "ax.errorbar(nu_obs, nu_mod_obs, yerr=nu_err, fmt='o', label='obs')\n",
    "ax.plot(nu, nu_mod, 'o', label='true')\n",
    "\n",
    "ax.axvline(nu_max_sca, linestyle='--', label=r'$\\nu_\\mathrm{max}$')\n",
    "ax.set_ylabel(r'$\\nu\\,\\mathrm{mod.}\\Delta\\nu\\,(\\mathrm{\\mu Hz})$')\n",
    "ax.set_xlabel(r'$\\nu\\,(\\mathrm{\\mu Hz})$')\n",
    "\n",
    "ax.legend()"
   ]
  },
  {
   "cell_type": "code",
   "execution_count": 10,
   "metadata": {},
   "outputs": [],
   "source": [
    "epsilon = [1.3, 0.2]\n",
    "alpha = [np.log(0.001), 1.0]\n",
    "delta_nu = [delta_nu_fit, 1.0]\n",
    "nu_max = [nu_max_sca, 0.05*nu_max_sca]"
   ]
  },
  {
   "cell_type": "code",
   "execution_count": 11,
   "metadata": {},
   "outputs": [],
   "source": [
    "prior = Prior(delta_nu, nu_max, epsilon, alpha, n=n)"
   ]
  },
  {
   "cell_type": "code",
   "execution_count": 12,
   "metadata": {},
   "outputs": [
    {
     "data": {
      "text/plain": [
       "[128.69939436323318, 1.0]"
      ]
     },
     "execution_count": 12,
     "metadata": {},
     "output_type": "execute_result"
    }
   ],
   "source": [
    "prior.delta_nu"
   ]
  },
  {
   "cell_type": "code",
   "execution_count": 13,
   "metadata": {},
   "outputs": [],
   "source": [
    "# num_warmup, num_samples, num_chains = 2000, 2000, 4\n",
    "\n",
    "# rng_key = random.PRNGKey(53)\n",
    "# rng_keys = random.split(rng_key, num_chains)\n",
    "\n",
    "# kernel = NUTS(prior.model, target_accept_prob=0.99, init_strategy=init.init_to_median, step_size=0.1)\n",
    "# mcmc = MCMC(kernel, num_warmup=num_warmup, num_samples=num_samples, num_chains=num_chains)"
   ]
  },
  {
   "cell_type": "code",
   "execution_count": 14,
   "metadata": {},
   "outputs": [],
   "source": [
    "# mcmc.run(rng_keys)"
   ]
  },
  {
   "cell_type": "code",
   "execution_count": 15,
   "metadata": {
    "scrolled": false
   },
   "outputs": [],
   "source": [
    "# trace = az.from_numpyro(mcmc)\n",
    "# az.plot_trace(trace);"
   ]
  },
  {
   "cell_type": "code",
   "execution_count": 16,
   "metadata": {},
   "outputs": [],
   "source": [
    "observed = Observed(nu_obs, nu_err)"
   ]
  },
  {
   "cell_type": "code",
   "execution_count": 17,
   "metadata": {},
   "outputs": [],
   "source": [
    "posterior = Posterior(prior, observed)"
   ]
  },
  {
   "cell_type": "code",
   "execution_count": 18,
   "metadata": {},
   "outputs": [],
   "source": [
    "# model = jax.pmap(posterior.model)\n",
    "model = posterior.model"
   ]
  },
  {
   "cell_type": "code",
   "execution_count": 19,
   "metadata": {},
   "outputs": [],
   "source": [
    "optimizer = Adam(step_size=0.0005)\n",
    "loss = Trace_ELBO()\n",
    "\n",
    "guide = AutoDelta(model)\n",
    "svi = SVI(model, guide, optimizer, loss)"
   ]
  },
  {
   "cell_type": "code",
   "execution_count": 23,
   "metadata": {
    "scrolled": true
   },
   "outputs": [
    {
     "name": "stderr",
     "output_type": "stream",
     "text": [
      "100%|██████████| 20000/20000 [00:10<00:00, 1941.13it/s, init loss: 115667.9732, avg. loss [19001-20000]: -14.3172]\n"
     ]
    }
   ],
   "source": [
    "svi_result = svi.run(random.PRNGKey(0), 20000)"
   ]
  },
  {
   "cell_type": "code",
   "execution_count": 21,
   "metadata": {},
   "outputs": [
    {
     "data": {
      "text/plain": [
       "{'alpha_auto_loc': DeviceArray(0.00205847, dtype=float64),\n",
       " 'b0_auto_loc': DeviceArray(0.00693169, dtype=float64),\n",
       " 'b1_auto_loc': DeviceArray(1.64716784e-06, dtype=float64),\n",
       " 'c0_auto_loc': DeviceArray(1473836.45759754, dtype=float64),\n",
       " 'delta_nu_auto_loc': DeviceArray(128.60281142, dtype=float64),\n",
       " 'epsilon_auto_loc': DeviceArray(1.30908477, dtype=float64),\n",
       " 'nu_err_auto_loc': DeviceArray(0.09085908, dtype=float64),\n",
       " 'nu_max_auto_loc': DeviceArray(2819.40163418, dtype=float64),\n",
       " 'phi_cz_unwrapped_auto_loc': DeviceArray(0.34534806, dtype=float64),\n",
       " 'phi_he_unwrapped_auto_loc': DeviceArray(-0.43445087, dtype=float64),\n",
       " 'tau_cz_auto_loc': DeviceArray(0.00053524, dtype=float64),\n",
       " 'tau_he_auto_loc': DeviceArray(0.00016037, dtype=float64)}"
      ]
     },
     "execution_count": 21,
     "metadata": {},
     "output_type": "execute_result"
    }
   ],
   "source": [
    "svi_result.params"
   ]
  },
  {
   "cell_type": "code",
   "execution_count": 46,
   "metadata": {},
   "outputs": [],
   "source": [
    "_model = numpyro.handlers.condition(data={\n",
    "#     'nu_err': 0.08\n",
    "})(model)"
   ]
  },
  {
   "cell_type": "code",
   "execution_count": 51,
   "metadata": {},
   "outputs": [],
   "source": [
    "num_warmup, num_samples, num_chains = 2000, 2000, 1\n",
    "\n",
    "rng_key = random.PRNGKey(53)\n",
    "rng_keys = random.split(rng_key, num_chains)\n",
    "\n",
    "kernel = NUTS(_model, target_accept_prob=0.99, init_strategy=init.init_to_sample, step_size=1.0)\n",
    "mcmc = MCMC(kernel, num_warmup=num_warmup, num_samples=num_samples, num_chains=num_chains)"
   ]
  },
  {
   "cell_type": "code",
   "execution_count": 53,
   "metadata": {},
   "outputs": [],
   "source": [
    "## Really slow for the first few samples. Use tensorboard to see why."
   ]
  },
  {
   "cell_type": "code",
   "execution_count": 52,
   "metadata": {},
   "outputs": [
    {
     "name": "stderr",
     "output_type": "stream",
     "text": [
      "sample:  59%|█████▊    | 2346/4000 [00:58<00:41, 40.01it/s] \n"
     ]
    },
    {
     "ename": "KeyboardInterrupt",
     "evalue": "",
     "output_type": "error",
     "traceback": [
      "\u001b[0;31m---------------------------------------------------------------------------\u001b[0m",
      "\u001b[0;31mKeyboardInterrupt\u001b[0m                         Traceback (most recent call last)",
      "\u001b[0;32m<ipython-input-52-1915fb322764>\u001b[0m in \u001b[0;36m<module>\u001b[0;34m\u001b[0m\n\u001b[0;32m----> 1\u001b[0;31m \u001b[0mmcmc\u001b[0m\u001b[0;34m.\u001b[0m\u001b[0mrun\u001b[0m\u001b[0;34m(\u001b[0m\u001b[0mrng_keys\u001b[0m\u001b[0;34m)\u001b[0m\u001b[0;34m\u001b[0m\u001b[0;34m\u001b[0m\u001b[0m\n\u001b[0m",
      "\u001b[0;32m~/Repos/alexlyttle/numpyro/numpyro/infer/mcmc.py\u001b[0m in \u001b[0;36mrun\u001b[0;34m(self, rng_key, extra_fields, init_params, *args, **kwargs)\u001b[0m\n\u001b[1;32m    559\u001b[0m         \u001b[0mmap_args\u001b[0m \u001b[0;34m=\u001b[0m \u001b[0;34m(\u001b[0m\u001b[0mrng_key\u001b[0m\u001b[0;34m,\u001b[0m \u001b[0minit_state\u001b[0m\u001b[0;34m,\u001b[0m \u001b[0minit_params\u001b[0m\u001b[0;34m)\u001b[0m\u001b[0;34m\u001b[0m\u001b[0;34m\u001b[0m\u001b[0m\n\u001b[1;32m    560\u001b[0m         \u001b[0;32mif\u001b[0m \u001b[0mself\u001b[0m\u001b[0;34m.\u001b[0m\u001b[0mnum_chains\u001b[0m \u001b[0;34m==\u001b[0m \u001b[0;36m1\u001b[0m\u001b[0;34m:\u001b[0m\u001b[0;34m\u001b[0m\u001b[0;34m\u001b[0m\u001b[0m\n\u001b[0;32m--> 561\u001b[0;31m             \u001b[0mstates_flat\u001b[0m\u001b[0;34m,\u001b[0m \u001b[0mlast_state\u001b[0m \u001b[0;34m=\u001b[0m \u001b[0mpartial_map_fn\u001b[0m\u001b[0;34m(\u001b[0m\u001b[0mmap_args\u001b[0m\u001b[0;34m)\u001b[0m\u001b[0;34m\u001b[0m\u001b[0;34m\u001b[0m\u001b[0m\n\u001b[0m\u001b[1;32m    562\u001b[0m             \u001b[0mstates\u001b[0m \u001b[0;34m=\u001b[0m \u001b[0mtree_map\u001b[0m\u001b[0;34m(\u001b[0m\u001b[0;32mlambda\u001b[0m \u001b[0mx\u001b[0m\u001b[0;34m:\u001b[0m \u001b[0mx\u001b[0m\u001b[0;34m[\u001b[0m\u001b[0mjnp\u001b[0m\u001b[0;34m.\u001b[0m\u001b[0mnewaxis\u001b[0m\u001b[0;34m,\u001b[0m \u001b[0;34m...\u001b[0m\u001b[0;34m]\u001b[0m\u001b[0;34m,\u001b[0m \u001b[0mstates_flat\u001b[0m\u001b[0;34m)\u001b[0m\u001b[0;34m\u001b[0m\u001b[0;34m\u001b[0m\u001b[0m\n\u001b[1;32m    563\u001b[0m         \u001b[0;32melse\u001b[0m\u001b[0;34m:\u001b[0m\u001b[0;34m\u001b[0m\u001b[0;34m\u001b[0m\u001b[0m\n",
      "\u001b[0;32m~/Repos/alexlyttle/numpyro/numpyro/infer/mcmc.py\u001b[0m in \u001b[0;36m_single_chain_mcmc\u001b[0;34m(self, init, args, kwargs, collect_fields)\u001b[0m\n\u001b[1;32m    371\u001b[0m             \u001b[0;32melse\u001b[0m \u001b[0mcollection_size\u001b[0m \u001b[0;34m//\u001b[0m \u001b[0mself\u001b[0m\u001b[0;34m.\u001b[0m\u001b[0mthinning\u001b[0m\u001b[0;34m\u001b[0m\u001b[0;34m\u001b[0m\u001b[0m\n\u001b[1;32m    372\u001b[0m         )\n\u001b[0;32m--> 373\u001b[0;31m         collect_vals = fori_collect(\n\u001b[0m\u001b[1;32m    374\u001b[0m             \u001b[0mlower_idx\u001b[0m\u001b[0;34m,\u001b[0m\u001b[0;34m\u001b[0m\u001b[0;34m\u001b[0m\u001b[0m\n\u001b[1;32m    375\u001b[0m             \u001b[0mupper_idx\u001b[0m\u001b[0;34m,\u001b[0m\u001b[0;34m\u001b[0m\u001b[0;34m\u001b[0m\u001b[0m\n",
      "\u001b[0;32m~/Repos/alexlyttle/numpyro/numpyro/util.py\u001b[0m in \u001b[0;36mfori_collect\u001b[0;34m(lower, upper, body_fun, init_val, transform, progbar, return_last_val, collection_size, thinning, **progbar_opts)\u001b[0m\n\u001b[1;32m    346\u001b[0m             \u001b[0;32mwith\u001b[0m \u001b[0mtqdm\u001b[0m\u001b[0;34m.\u001b[0m\u001b[0mtrange\u001b[0m\u001b[0;34m(\u001b[0m\u001b[0mupper\u001b[0m\u001b[0;34m)\u001b[0m \u001b[0;32mas\u001b[0m \u001b[0mt\u001b[0m\u001b[0;34m:\u001b[0m\u001b[0;34m\u001b[0m\u001b[0;34m\u001b[0m\u001b[0m\n\u001b[1;32m    347\u001b[0m                 \u001b[0;32mfor\u001b[0m \u001b[0mi\u001b[0m \u001b[0;32min\u001b[0m \u001b[0mt\u001b[0m\u001b[0;34m:\u001b[0m\u001b[0;34m\u001b[0m\u001b[0;34m\u001b[0m\u001b[0m\n\u001b[0;32m--> 348\u001b[0;31m                     \u001b[0mvals\u001b[0m \u001b[0;34m=\u001b[0m \u001b[0mjit\u001b[0m\u001b[0;34m(\u001b[0m\u001b[0m_body_fn\u001b[0m\u001b[0;34m)\u001b[0m\u001b[0;34m(\u001b[0m\u001b[0mi\u001b[0m\u001b[0;34m,\u001b[0m \u001b[0mvals\u001b[0m\u001b[0;34m)\u001b[0m\u001b[0;34m\u001b[0m\u001b[0;34m\u001b[0m\u001b[0m\n\u001b[0m\u001b[1;32m    349\u001b[0m                     \u001b[0mt\u001b[0m\u001b[0;34m.\u001b[0m\u001b[0mset_description\u001b[0m\u001b[0;34m(\u001b[0m\u001b[0mprogbar_desc\u001b[0m\u001b[0;34m(\u001b[0m\u001b[0mi\u001b[0m\u001b[0;34m)\u001b[0m\u001b[0;34m,\u001b[0m \u001b[0mrefresh\u001b[0m\u001b[0;34m=\u001b[0m\u001b[0;32mFalse\u001b[0m\u001b[0;34m)\u001b[0m\u001b[0;34m\u001b[0m\u001b[0;34m\u001b[0m\u001b[0m\n\u001b[1;32m    350\u001b[0m                     \u001b[0;32mif\u001b[0m \u001b[0mdiagnostics_fn\u001b[0m\u001b[0;34m:\u001b[0m\u001b[0;34m\u001b[0m\u001b[0;34m\u001b[0m\u001b[0m\n",
      "\u001b[0;32m<string>\u001b[0m in \u001b[0;36m__new__\u001b[0;34m(_cls, step_size, inverse_mass_matrix, mass_matrix_sqrt, mass_matrix_sqrt_inv, ss_state, mm_state, window_idx, rng_key)\u001b[0m\n",
      "\u001b[0;31mKeyboardInterrupt\u001b[0m: "
     ]
    }
   ],
   "source": [
    "mcmc.run(rng_keys)"
   ]
  },
  {
   "cell_type": "code",
   "execution_count": 36,
   "metadata": {},
   "outputs": [
    {
     "name": "stdout",
     "output_type": "stream",
     "text": [
      "\n",
      "                         mean       std    median      5.0%     95.0%     n_eff     r_hat\n",
      "           alpha[0]      0.00      0.00      0.00      0.00      0.00     29.29      1.08\n",
      "              b0[0]      0.02      0.02      0.02      0.00      0.05    118.32      1.01\n",
      "              b1[0]      0.00      0.00      0.00      0.00      0.00     58.72      1.02\n",
      "              c0[0] 2725745.98 680711.85 2670018.62 1630402.09 3760129.49     50.59      1.00\n",
      "        delta_nu[0]    128.94      0.31    128.94    128.48    129.50     57.10      1.07\n",
      "         epsilon[0]      1.25      0.06      1.25      1.16      1.35     63.45      1.06\n",
      "          nu_err[0]      0.08      0.04      0.07      0.03      0.14    215.73      1.00\n",
      "          nu_max[0]   2869.62    142.58   2867.45   2638.82   3110.95    130.06      1.01\n",
      "phi_cz_unwrapped[0]     -4.04      2.61     -4.32     -8.19      0.18     55.20      1.00\n",
      "phi_he_unwrapped[0]      2.37      2.02      2.74     -0.50      5.35     37.49      1.09\n",
      "          tau_cz[0]      0.00      0.00      0.00      0.00      0.00     55.59      1.00\n",
      "          tau_he[0]      0.00      0.00      0.00      0.00      0.00     41.44      1.08\n",
      "\n",
      "Number of divergences: 0\n"
     ]
    }
   ],
   "source": [
    "mcmc.print_summary()"
   ]
  },
  {
   "cell_type": "code",
   "execution_count": 26,
   "metadata": {},
   "outputs": [],
   "source": [
    "# trace = az.from_numpyro(mcmc)"
   ]
  },
  {
   "cell_type": "code",
   "execution_count": 37,
   "metadata": {},
   "outputs": [],
   "source": [
    "posterior = mcmc.get_samples(group_by_chain=True)"
   ]
  },
  {
   "cell_type": "code",
   "execution_count": 38,
   "metadata": {},
   "outputs": [],
   "source": [
    "sample_stats = mcmc.get_extra_fields(group_by_chain=True)"
   ]
  },
  {
   "cell_type": "code",
   "execution_count": 42,
   "metadata": {},
   "outputs": [
    {
     "data": {
      "text/plain": [
       "DeviceArray(0.08048005, dtype=float64)"
      ]
     },
     "execution_count": 42,
     "metadata": {},
     "output_type": "execute_result"
    }
   ],
   "source": [
    "posterior['nu_err'].mean()"
   ]
  },
  {
   "cell_type": "code",
   "execution_count": 39,
   "metadata": {},
   "outputs": [],
   "source": [
    "trace = az.from_dict(posterior=posterior, sample_stats=sample_stats)"
   ]
  },
  {
   "cell_type": "code",
   "execution_count": 40,
   "metadata": {
    "scrolled": false
   },
   "outputs": [
    {
     "ename": "IndexError",
     "evalue": "too many indices for array: array is 1-dimensional, but 2 were indexed",
     "output_type": "error",
     "traceback": [
      "\u001b[0;31m---------------------------------------------------------------------------\u001b[0m",
      "\u001b[0;31mIndexError\u001b[0m                                Traceback (most recent call last)",
      "\u001b[0;32m<ipython-input-40-7c3f6fe9d699>\u001b[0m in \u001b[0;36m<module>\u001b[0;34m\u001b[0m\n\u001b[0;32m----> 1\u001b[0;31m \u001b[0maz\u001b[0m\u001b[0;34m.\u001b[0m\u001b[0mplot_trace\u001b[0m\u001b[0;34m(\u001b[0m\u001b[0mtrace\u001b[0m\u001b[0;34m)\u001b[0m\u001b[0;34m;\u001b[0m\u001b[0;34m\u001b[0m\u001b[0;34m\u001b[0m\u001b[0m\n\u001b[0m",
      "\u001b[0;32m~/.virtualenvs/asteroglitch/lib/python3.8/site-packages/arviz/plots/traceplot.py\u001b[0m in \u001b[0;36mplot_trace\u001b[0;34m(data, var_names, filter_vars, transform, coords, divergences, kind, figsize, rug, lines, circ_var_names, circ_var_units, compact, compact_prop, combined, chain_prop, legend, plot_kwargs, fill_kwargs, rug_kwargs, hist_kwargs, trace_kwargs, rank_kwargs, axes, backend, backend_config, backend_kwargs, show)\u001b[0m\n\u001b[1;32m    242\u001b[0m \u001b[0;34m\u001b[0m\u001b[0m\n\u001b[1;32m    243\u001b[0m     \u001b[0mplot\u001b[0m \u001b[0;34m=\u001b[0m \u001b[0mget_plotting_function\u001b[0m\u001b[0;34m(\u001b[0m\u001b[0;34m\"plot_trace\"\u001b[0m\u001b[0;34m,\u001b[0m \u001b[0;34m\"traceplot\"\u001b[0m\u001b[0;34m,\u001b[0m \u001b[0mbackend\u001b[0m\u001b[0;34m)\u001b[0m\u001b[0;34m\u001b[0m\u001b[0;34m\u001b[0m\u001b[0m\n\u001b[0;32m--> 244\u001b[0;31m     \u001b[0maxes\u001b[0m \u001b[0;34m=\u001b[0m \u001b[0mplot\u001b[0m\u001b[0;34m(\u001b[0m\u001b[0;34m**\u001b[0m\u001b[0mtrace_plot_args\u001b[0m\u001b[0;34m)\u001b[0m\u001b[0;34m\u001b[0m\u001b[0;34m\u001b[0m\u001b[0m\n\u001b[0m\u001b[1;32m    245\u001b[0m \u001b[0;34m\u001b[0m\u001b[0m\n\u001b[1;32m    246\u001b[0m     \u001b[0;32mreturn\u001b[0m \u001b[0maxes\u001b[0m\u001b[0;34m\u001b[0m\u001b[0;34m\u001b[0m\u001b[0m\n",
      "\u001b[0;32m~/.virtualenvs/asteroglitch/lib/python3.8/site-packages/arviz/plots/backends/matplotlib/traceplot.py\u001b[0m in \u001b[0;36mplot_trace\u001b[0;34m(data, var_names, divergences, kind, figsize, rug, lines, circ_var_names, circ_var_units, compact, compact_prop, combined, chain_prop, legend, plot_kwargs, fill_kwargs, rug_kwargs, hist_kwargs, trace_kwargs, rank_kwargs, plotters, divergence_data, axes, backend_kwargs, backend_config, show)\u001b[0m\n\u001b[1;32m    341\u001b[0m \u001b[0;34m\u001b[0m\u001b[0m\n\u001b[1;32m    342\u001b[0m                 \u001b[0;32mfor\u001b[0m \u001b[0mchain\u001b[0m\u001b[0;34m,\u001b[0m \u001b[0mchain_divs\u001b[0m \u001b[0;32min\u001b[0m \u001b[0menumerate\u001b[0m\u001b[0;34m(\u001b[0m\u001b[0mdivs\u001b[0m\u001b[0;34m)\u001b[0m\u001b[0;34m:\u001b[0m\u001b[0;34m\u001b[0m\u001b[0;34m\u001b[0m\u001b[0m\n\u001b[0;32m--> 343\u001b[0;31m                     \u001b[0mdiv_draws\u001b[0m \u001b[0;34m=\u001b[0m \u001b[0mdata\u001b[0m\u001b[0;34m.\u001b[0m\u001b[0mdraw\u001b[0m\u001b[0;34m.\u001b[0m\u001b[0mvalues\u001b[0m\u001b[0;34m[\u001b[0m\u001b[0mchain_divs\u001b[0m\u001b[0;34m]\u001b[0m\u001b[0;34m\u001b[0m\u001b[0;34m\u001b[0m\u001b[0m\n\u001b[0m\u001b[1;32m    344\u001b[0m                     \u001b[0mdiv_idxs\u001b[0m \u001b[0;34m=\u001b[0m \u001b[0mnp\u001b[0m\u001b[0;34m.\u001b[0m\u001b[0marange\u001b[0m\u001b[0;34m(\u001b[0m\u001b[0mlen\u001b[0m\u001b[0;34m(\u001b[0m\u001b[0mchain_divs\u001b[0m\u001b[0;34m)\u001b[0m\u001b[0;34m)\u001b[0m\u001b[0;34m[\u001b[0m\u001b[0mchain_divs\u001b[0m\u001b[0;34m]\u001b[0m\u001b[0;34m\u001b[0m\u001b[0;34m\u001b[0m\u001b[0m\n\u001b[1;32m    345\u001b[0m                     \u001b[0;32mif\u001b[0m \u001b[0mdiv_idxs\u001b[0m\u001b[0;34m.\u001b[0m\u001b[0msize\u001b[0m \u001b[0;34m>\u001b[0m \u001b[0;36m0\u001b[0m\u001b[0;34m:\u001b[0m\u001b[0;34m\u001b[0m\u001b[0;34m\u001b[0m\u001b[0m\n",
      "\u001b[0;31mIndexError\u001b[0m: too many indices for array: array is 1-dimensional, but 2 were indexed"
     ]
    },
    {
     "data": {
      "image/png": "[encoded data removed]",
      "text/plain": [
       "<Figure size 864x2160 with 1 Axes>"
      ]
     },
     "metadata": {
      "needs_background": "light"
     },
     "output_type": "display_data"
    }
   ],
   "source": [
    "az.plot_trace(trace);"
   ]
  },
  {
   "cell_type": "code",
   "execution_count": null,
   "metadata": {},
   "outputs": [],
   "source": []
  }
 ],
 "metadata": {
  "kernelspec": {
   "display_name": "Python 3.8 (AsteroGlitch)",
   "language": "python",
   "name": "asteroglitch"
  },
  "language_info": {
   "codemirror_mode": {
    "name": "ipython",
    "version": 3
   },
   "file_extension": ".py",
   "mimetype": "text/x-python",
   "name": "python",
   "nbconvert_exporter": "python",
   "pygments_lexer": "ipython3",
   "version": "3.8.6"
  }
 },
 "nbformat": 4,
 "nbformat_minor": 4
}

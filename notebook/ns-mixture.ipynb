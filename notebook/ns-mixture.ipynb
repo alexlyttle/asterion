{
 "cells": [
  {
   "cell_type": "code",
   "execution_count": 1,
   "id": "11e553bb",
   "metadata": {},
   "outputs": [
    {
     "name": "stderr",
     "output_type": "stream",
     "text": [
      "/Users/alyttle/.pyenv/versions/asterion/lib/python3.9/site-packages/jax/_src/lib/__init__.py:32: UserWarning: JAX on Mac ARM machines is experimental and minimally tested. Please see https://github.com/google/jax/issues/5501 in the event of problems.\n",
      "  warnings.warn(\"JAX on Mac ARM machines is experimental and minimally tested. \"\n"
     ]
    }
   ],
   "source": [
    "import jax, numpyro\n",
    "import numpy as np\n",
    "import jax.numpy as jnp\n",
    "import numpyro.distributions as dist\n",
    "import matplotlib.pyplot as plt\n",
    "\n",
    "from jax import random\n",
    "from numpyro.contrib.nested_sampling import NestedSampler\n",
    "\n",
    "numpyro.enable_x64()"
   ]
  },
  {
   "cell_type": "code",
   "execution_count": 154,
   "id": "0d183593",
   "metadata": {},
   "outputs": [],
   "source": [
    "def model(x, y=None):\n",
    "    beta = numpyro.sample(\"beta\", dist.Normal(jnp.zeros(2), 10.0))\n",
    "    sigma = numpyro.sample(\"sigma\", dist.HalfNormal(10.0*jnp.ones(2)))\n",
    "    \n",
    "    frac = numpyro.sample(\"frac\", dist.Uniform())                       \n",
    "    \n",
    "    logL = dist.Normal(\n",
    "        jnp.array([jnp.full_like(x, beta[0]), beta[1] * x]),\n",
    "        sigma[..., None]\n",
    "    ).log_prob(y)\n",
    "    logp = jnp.log(jnp.array([frac, 1 - frac]))[..., None] + logL\n",
    "    \n",
    "    logp_marg = jnp.logaddexp(logp[0], logp[1])\n",
    "    numpyro.factor('obs', logp_marg)\n",
    "    numpyro.deterministic(\"logK\", (logL[1].sum() - logL[0].sum()))"
   ]
  },
  {
   "cell_type": "code",
   "execution_count": 155,
   "id": "1ca4f1a7",
   "metadata": {},
   "outputs": [],
   "source": [
    "rng = random.PRNGKey(0)"
   ]
  },
  {
   "cell_type": "code",
   "execution_count": 167,
   "id": "de80b6b1",
   "metadata": {},
   "outputs": [],
   "source": [
    "rng, key = random.split(rng, 2)\n",
    "\n",
    "n = 101\n",
    "x = jnp.linspace(-1, 1, n)\n",
    "y = 1.0 * x + random.normal(key, shape=x.shape)\n",
    "# y = random.normal(key, shape=x.shape)"
   ]
  },
  {
   "cell_type": "code",
   "execution_count": 168,
   "id": "ecb32baa",
   "metadata": {},
   "outputs": [
    {
     "data": {
      "text/plain": [
       "[<matplotlib.lines.Line2D at 0x2c77d23d0>]"
      ]
     },
     "execution_count": 168,
     "metadata": {},
     "output_type": "execute_result"
    },
    {
     "data": {
      "image/png": "[encoded data removed]",
      "text/plain": [
       "<Figure size 432x288 with 1 Axes>"
      ]
     },
     "metadata": {
      "needs_background": "light"
     },
     "output_type": "display_data"
    }
   ],
   "source": [
    "_, ax = plt.subplots()\n",
    "\n",
    "ax.plot(x, y, 'o')"
   ]
  },
  {
   "cell_type": "code",
   "execution_count": 169,
   "id": "dd1608bc",
   "metadata": {},
   "outputs": [],
   "source": [
    "ns = NestedSampler(model)"
   ]
  },
  {
   "cell_type": "code",
   "execution_count": 170,
   "id": "3cee57e5",
   "metadata": {},
   "outputs": [],
   "source": [
    "rng, key = random.split(rng)\n",
    "ns.run(key, x, y=y)"
   ]
  },
  {
   "cell_type": "code",
   "execution_count": 171,
   "id": "1e030c67",
   "metadata": {},
   "outputs": [],
   "source": [
    "rng, key = random.split(rng)\n",
    "\n",
    "samples = ns.get_samples(key, 1000)"
   ]
  },
  {
   "cell_type": "code",
   "execution_count": 172,
   "id": "c80bb598",
   "metadata": {},
   "outputs": [
    {
     "data": {
      "text/plain": [
       "(array([  3.,  13.,  37.,  95., 194., 446., 125.,  63.,  21.,   3.]),\n",
       " array([-26.07725548, -20.81738885, -15.55752221, -10.29765558,\n",
       "         -5.03778895,   0.22207769,   5.48194432,  10.74181095,\n",
       "         16.00167759,  21.26154422,  26.52141085]),\n",
       " <BarContainer object of 10 artists>)"
      ]
     },
     "execution_count": 172,
     "metadata": {},
     "output_type": "execute_result"
    },
    {
     "data": {
      "image/png": "[encoded data removed]",
      "text/plain": [
       "<Figure size 432x288 with 1 Axes>"
      ]
     },
     "metadata": {
      "needs_background": "light"
     },
     "output_type": "display_data"
    }
   ],
   "source": [
    "_, ax = plt.subplots()\n",
    "\n",
    "beta = np.array(samples[\"beta\"])\n",
    "ax.hist(beta[:, 0])"
   ]
  },
  {
   "cell_type": "code",
   "execution_count": 173,
   "id": "de16b679",
   "metadata": {},
   "outputs": [
    {
     "data": {
      "text/plain": [
       "(array([  8., 115., 295., 367., 151.,  41.,  15.,   4.,   0.,   4.]),\n",
       " array([0.34704953, 0.53112776, 0.715206  , 0.89928423, 1.08336247,\n",
       "        1.26744071, 1.45151894, 1.63559718, 1.81967541, 2.00375365,\n",
       "        2.18783189]),\n",
       " <BarContainer object of 10 artists>)"
      ]
     },
     "execution_count": 173,
     "metadata": {},
     "output_type": "execute_result"
    },
    {
     "data": {
      "image/png": "[encoded data removed]",
      "text/plain": [
       "<Figure size 432x288 with 1 Axes>"
      ]
     },
     "metadata": {
      "needs_background": "light"
     },
     "output_type": "display_data"
    }
   ],
   "source": [
    "_, ax = plt.subplots()\n",
    "\n",
    "beta = np.array(samples[\"beta\"])\n",
    "ax.hist(beta[:, 1])"
   ]
  },
  {
   "cell_type": "code",
   "execution_count": 174,
   "id": "dbbf3cfc",
   "metadata": {},
   "outputs": [
    {
     "data": {
      "text/plain": [
       "(array([503., 175., 130.,  59.,  46.,  43.,  20.,  19.,   4.,   1.]),\n",
       " array([1.11139615e-02, 2.93771062e+00, 5.86430728e+00, 8.79090393e+00,\n",
       "        1.17175006e+01, 1.46440972e+01, 1.75706939e+01, 2.04972906e+01,\n",
       "        2.34238872e+01, 2.63504839e+01, 2.92770805e+01]),\n",
       " <BarContainer object of 10 artists>)"
      ]
     },
     "execution_count": 174,
     "metadata": {},
     "output_type": "execute_result"
    },
    {
     "data": {
      "image/png": "[encoded data removed]",
      "text/plain": [
       "<Figure size 432x288 with 1 Axes>"
      ]
     },
     "metadata": {
      "needs_background": "light"
     },
     "output_type": "display_data"
    }
   ],
   "source": [
    "_, ax = plt.subplots()\n",
    "\n",
    "sig = np.array(samples[\"sigma\"])\n",
    "ax.hist(sig[:, 0])"
   ]
  },
  {
   "cell_type": "code",
   "execution_count": 175,
   "id": "27dc5c35",
   "metadata": {},
   "outputs": [
    {
     "data": {
      "text/plain": [
       "(array([ 21., 230., 507., 212.,  26.,   3.,   0.,   0.,   0.,   1.]),\n",
       " array([0.75475027, 0.8640829 , 0.97341553, 1.08274817, 1.1920808 ,\n",
       "        1.30141343, 1.41074606, 1.5200787 , 1.62941133, 1.73874396,\n",
       "        1.8480766 ]),\n",
       " <BarContainer object of 10 artists>)"
      ]
     },
     "execution_count": 175,
     "metadata": {},
     "output_type": "execute_result"
    },
    {
     "data": {
      "image/png": "[encoded data removed]",
      "text/plain": [
       "<Figure size 432x288 with 1 Axes>"
      ]
     },
     "metadata": {
      "needs_background": "light"
     },
     "output_type": "display_data"
    }
   ],
   "source": [
    "_, ax = plt.subplots()\n",
    "\n",
    "sig = np.array(samples[\"sigma\"])\n",
    "ax.hist(sig[:, 1])"
   ]
  },
  {
   "cell_type": "code",
   "execution_count": 176,
   "id": "95ec40cd",
   "metadata": {},
   "outputs": [
    {
     "data": {
      "text/plain": [
       "DeviceArray(312415.95519811, dtype=float64)"
      ]
     },
     "execution_count": 176,
     "metadata": {},
     "output_type": "execute_result"
    }
   ],
   "source": [
    "samples[\"logK\"].mean()"
   ]
  },
  {
   "cell_type": "code",
   "execution_count": 177,
   "id": "d7784fc0",
   "metadata": {},
   "outputs": [
    {
     "data": {
      "text/plain": [
       "(array([997.,   0.,   0.,   0.,   0.,   0.,   0.,   2.,   0.,   1.]),\n",
       " array([-1.27989050e+01,  1.24997288e+07,  2.49994704e+07,  3.74992121e+07,\n",
       "         4.99989537e+07,  6.24986953e+07,  7.49984369e+07,  8.74981785e+07,\n",
       "         9.99979202e+07,  1.12497662e+08,  1.24997403e+08]),\n",
       " <BarContainer object of 10 artists>)"
      ]
     },
     "execution_count": 177,
     "metadata": {},
     "output_type": "execute_result"
    },
    {
     "data": {
      "image/png": "[encoded data removed]",
      "text/plain": [
       "<Figure size 432x288 with 1 Axes>"
      ]
     },
     "metadata": {
      "needs_background": "light"
     },
     "output_type": "display_data"
    }
   ],
   "source": [
    "_, ax = plt.subplots()\n",
    "\n",
    "logK = np.array(samples[\"logK\"])\n",
    "ax.hist(logK)"
   ]
  },
  {
   "cell_type": "code",
   "execution_count": null,
   "id": "41291a07",
   "metadata": {},
   "outputs": [],
   "source": []
  }
 ],
 "metadata": {
  "kernelspec": {
   "display_name": "Python 3.9.9 (asterion)",
   "language": "python",
   "name": "asterion"
  },
  "language_info": {
   "codemirror_mode": {
    "name": "ipython",
    "version": 3
   },
   "file_extension": ".py",
   "mimetype": "text/x-python",
   "name": "python",
   "nbconvert_exporter": "python",
   "pygments_lexer": "ipython3",
   "version": "3.9.9"
  }
 },
 "nbformat": 4,
 "nbformat_minor": 5
}

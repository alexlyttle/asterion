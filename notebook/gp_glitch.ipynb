{
 "cells": [
  {
   "cell_type": "code",
   "execution_count": 14,
   "metadata": {},
   "outputs": [],
   "source": [
    "import numpy as np\n",
    "import pandas as pd\n",
    "import arviz as az\n",
    "import numpyro\n",
    "import numpyro.infer.initialization as init\n",
    "import matplotlib.pyplot as plt\n",
    "\n",
    "import jax\n",
    "import jax.numpy as jnp\n",
    "from jax import random\n",
    "from numpyro.infer import MCMC, NUTS, SVI, Predictive\n",
    "from numpyro.optim import Adam\n",
    "from numpyro.infer.autoguide import AutoDiagonalNormal, Trace_ELBO\n",
    "from numpyro.infer.reparam import CircularReparam\n",
    "import numpyro.distributions as dist\n",
    "\n",
    "from corner import corner\n",
    "\n",
    "import os"
   ]
  },
  {
   "cell_type": "code",
   "execution_count": 2,
   "metadata": {},
   "outputs": [
    {
     "data": {
      "text/html": [
       "<div>\n",
       "<style scoped>\n",
       "    .dataframe tbody tr th:only-of-type {\n",
       "        vertical-align: middle;\n",
       "    }\n",
       "\n",
       "    .dataframe tbody tr th {\n",
       "        vertical-align: top;\n",
       "    }\n",
       "\n",
       "    .dataframe thead th {\n",
       "        text-align: right;\n",
       "    }\n",
       "</style>\n",
       "<table border=\"1\" class=\"dataframe\">\n",
       "  <thead>\n",
       "    <tr style=\"text-align: right;\">\n",
       "      <th></th>\n",
       "      <th>filename</th>\n",
       "      <th>model_number</th>\n",
       "      <th>evol_stage</th>\n",
       "      <th>initial_mass</th>\n",
       "      <th>initial_Yinit</th>\n",
       "      <th>initial_Zinit</th>\n",
       "      <th>initial_feh</th>\n",
       "      <th>initial_MLT</th>\n",
       "      <th>initial_fov</th>\n",
       "      <th>star_mass</th>\n",
       "      <th>...</th>\n",
       "      <th>E_0_31</th>\n",
       "      <th>E_0_32</th>\n",
       "      <th>E_0_33</th>\n",
       "      <th>E_0_34</th>\n",
       "      <th>E_0_35</th>\n",
       "      <th>E_0_36</th>\n",
       "      <th>E_0_37</th>\n",
       "      <th>E_0_38</th>\n",
       "      <th>E_0_39</th>\n",
       "      <th>E_0_40</th>\n",
       "    </tr>\n",
       "  </thead>\n",
       "  <tbody>\n",
       "    <tr>\n",
       "      <th>0</th>\n",
       "      <td>profile4</td>\n",
       "      <td>152</td>\n",
       "      <td>0</td>\n",
       "      <td>1.0</td>\n",
       "      <td>0.26</td>\n",
       "      <td>0.013153</td>\n",
       "      <td>0.0</td>\n",
       "      <td>2.1</td>\n",
       "      <td>0</td>\n",
       "      <td>1.0</td>\n",
       "      <td>...</td>\n",
       "      <td>1.216230e-06</td>\n",
       "      <td>0.000002</td>\n",
       "      <td>0.000006</td>\n",
       "      <td>0.000279</td>\n",
       "      <td>0.000014</td>\n",
       "      <td>0.000003</td>\n",
       "      <td>0.000002</td>\n",
       "      <td>0.000001</td>\n",
       "      <td>8.677974e-07</td>\n",
       "      <td>7.314938e-07</td>\n",
       "    </tr>\n",
       "    <tr>\n",
       "      <th>1</th>\n",
       "      <td>profile5</td>\n",
       "      <td>153</td>\n",
       "      <td>0</td>\n",
       "      <td>1.0</td>\n",
       "      <td>0.26</td>\n",
       "      <td>0.013153</td>\n",
       "      <td>0.0</td>\n",
       "      <td>2.1</td>\n",
       "      <td>0</td>\n",
       "      <td>1.0</td>\n",
       "      <td>...</td>\n",
       "      <td>1.070235e-06</td>\n",
       "      <td>0.000002</td>\n",
       "      <td>0.000004</td>\n",
       "      <td>0.000047</td>\n",
       "      <td>0.000027</td>\n",
       "      <td>0.000004</td>\n",
       "      <td>0.000002</td>\n",
       "      <td>0.000001</td>\n",
       "      <td>8.865659e-07</td>\n",
       "      <td>7.333283e-07</td>\n",
       "    </tr>\n",
       "    <tr>\n",
       "      <th>2</th>\n",
       "      <td>profile6</td>\n",
       "      <td>154</td>\n",
       "      <td>0</td>\n",
       "      <td>1.0</td>\n",
       "      <td>0.26</td>\n",
       "      <td>0.013153</td>\n",
       "      <td>0.0</td>\n",
       "      <td>2.1</td>\n",
       "      <td>0</td>\n",
       "      <td>1.0</td>\n",
       "      <td>...</td>\n",
       "      <td>9.770822e-07</td>\n",
       "      <td>0.000002</td>\n",
       "      <td>0.000003</td>\n",
       "      <td>0.000022</td>\n",
       "      <td>0.000059</td>\n",
       "      <td>0.000005</td>\n",
       "      <td>0.000002</td>\n",
       "      <td>0.000001</td>\n",
       "      <td>9.058076e-07</td>\n",
       "      <td>7.371980e-07</td>\n",
       "    </tr>\n",
       "    <tr>\n",
       "      <th>3</th>\n",
       "      <td>profile7</td>\n",
       "      <td>155</td>\n",
       "      <td>0</td>\n",
       "      <td>1.0</td>\n",
       "      <td>0.26</td>\n",
       "      <td>0.013153</td>\n",
       "      <td>0.0</td>\n",
       "      <td>2.1</td>\n",
       "      <td>0</td>\n",
       "      <td>1.0</td>\n",
       "      <td>...</td>\n",
       "      <td>9.140089e-07</td>\n",
       "      <td>0.000001</td>\n",
       "      <td>0.000003</td>\n",
       "      <td>0.000014</td>\n",
       "      <td>0.000159</td>\n",
       "      <td>0.000006</td>\n",
       "      <td>0.000002</td>\n",
       "      <td>0.000001</td>\n",
       "      <td>9.237271e-07</td>\n",
       "      <td>7.414930e-07</td>\n",
       "    </tr>\n",
       "    <tr>\n",
       "      <th>4</th>\n",
       "      <td>profile8</td>\n",
       "      <td>156</td>\n",
       "      <td>0</td>\n",
       "      <td>1.0</td>\n",
       "      <td>0.26</td>\n",
       "      <td>0.013153</td>\n",
       "      <td>0.0</td>\n",
       "      <td>2.1</td>\n",
       "      <td>0</td>\n",
       "      <td>1.0</td>\n",
       "      <td>...</td>\n",
       "      <td>8.694409e-07</td>\n",
       "      <td>0.000001</td>\n",
       "      <td>0.000002</td>\n",
       "      <td>0.000010</td>\n",
       "      <td>0.000672</td>\n",
       "      <td>0.000007</td>\n",
       "      <td>0.000002</td>\n",
       "      <td>0.000001</td>\n",
       "      <td>9.400169e-07</td>\n",
       "      <td>7.457830e-07</td>\n",
       "    </tr>\n",
       "  </tbody>\n",
       "</table>\n",
       "<p>5 rows × 110 columns</p>\n",
       "</div>"
      ],
      "text/plain": [
       "   filename  model_number  evol_stage  initial_mass  initial_Yinit  \\\n",
       "0  profile4           152           0           1.0           0.26   \n",
       "1  profile5           153           0           1.0           0.26   \n",
       "2  profile6           154           0           1.0           0.26   \n",
       "3  profile7           155           0           1.0           0.26   \n",
       "4  profile8           156           0           1.0           0.26   \n",
       "\n",
       "   initial_Zinit  initial_feh  initial_MLT  initial_fov  star_mass  ...  \\\n",
       "0       0.013153          0.0          2.1            0        1.0  ...   \n",
       "1       0.013153          0.0          2.1            0        1.0  ...   \n",
       "2       0.013153          0.0          2.1            0        1.0  ...   \n",
       "3       0.013153          0.0          2.1            0        1.0  ...   \n",
       "4       0.013153          0.0          2.1            0        1.0  ...   \n",
       "\n",
       "         E_0_31    E_0_32    E_0_33    E_0_34    E_0_35    E_0_36    E_0_37  \\\n",
       "0  1.216230e-06  0.000002  0.000006  0.000279  0.000014  0.000003  0.000002   \n",
       "1  1.070235e-06  0.000002  0.000004  0.000047  0.000027  0.000004  0.000002   \n",
       "2  9.770822e-07  0.000002  0.000003  0.000022  0.000059  0.000005  0.000002   \n",
       "3  9.140089e-07  0.000001  0.000003  0.000014  0.000159  0.000006  0.000002   \n",
       "4  8.694409e-07  0.000001  0.000002  0.000010  0.000672  0.000007  0.000002   \n",
       "\n",
       "     E_0_38        E_0_39        E_0_40  \n",
       "0  0.000001  8.677974e-07  7.314938e-07  \n",
       "1  0.000001  8.865659e-07  7.333283e-07  \n",
       "2  0.000001  9.058076e-07  7.371980e-07  \n",
       "3  0.000001  9.237271e-07  7.414930e-07  \n",
       "4  0.000001  9.400169e-07  7.457830e-07  \n",
       "\n",
       "[5 rows x 110 columns]"
      ]
     },
     "execution_count": 2,
     "metadata": {},
     "output_type": "execute_result"
    }
   ],
   "source": [
    "data_dir = 'data/prior'\n",
    "track_name = 'm1.0Y0.26FeH0.0MLT2.1ov0.003556dif1'\n",
    "track_dir = os.path.join(data_dir, track_name)\n",
    "\n",
    "track = pd.read_csv(os.path.join(track_dir, f'{track_name}.csv'))\n",
    "track.head()"
   ]
  },
  {
   "cell_type": "code",
   "execution_count": 3,
   "metadata": {},
   "outputs": [],
   "source": [
    "model_number = 708\n",
    "profile = track.loc[track['model_number']==model_number].iloc[0]"
   ]
  },
  {
   "cell_type": "code",
   "execution_count": 4,
   "metadata": {},
   "outputs": [],
   "source": [
    "n = np.arange(10, 30)\n",
    "nu_index = [f'nu_0_{i}' for i in n]\n",
    "\n",
    "def get_nu(profile):\n",
    "    nu = profile[nu_index].to_numpy().astype(float)\n",
    "    nu = nu[nu > 0.0]  # Values equal to zero correspond to no calculation\n",
    "    return nu\n",
    "\n",
    "nu = get_nu(profile)"
   ]
  },
  {
   "cell_type": "code",
   "execution_count": 5,
   "metadata": {},
   "outputs": [
    {
     "name": "stdout",
     "output_type": "stream",
     "text": [
      "nu_max ~ 3246.74 muHz\n",
      "delta_nu ~ 146.6 muHz\n"
     ]
    }
   ],
   "source": [
    "# Scaling relation nu_max\n",
    "nu_max_sca = profile['nu_max']\n",
    "print('nu_max ~', round(nu_max_sca, 2), 'muHz')\n",
    "\n",
    "# Delta_nu fit to radial modes about nu_max\n",
    "delta_nu_sca = profile['delta_nu']\n",
    "print('delta_nu ~', round(delta_nu_sca, 2), 'muHz')"
   ]
  },
  {
   "cell_type": "code",
   "execution_count": 10,
   "metadata": {},
   "outputs": [
    {
     "data": {
      "text/plain": [
       "Text(0, 0.5, 'nu mod. 140.74 muHz')"
      ]
     },
     "execution_count": 10,
     "metadata": {},
     "output_type": "execute_result"
    },
    {
     "data": {
      "image/png": "[encoded data removed]",
      "text/plain": [
       "<Figure size 432x288 with 1 Axes>"
      ]
     },
     "metadata": {
      "needs_background": "light"
     },
     "output_type": "display_data"
    }
   ],
   "source": [
    "f = 0.96\n",
    "delta_nu = f*delta_nu_sca\n",
    "plt.plot(n, nu%delta_nu)\n",
    "plt.xlabel('n')\n",
    "plt.ylabel(f'nu mod. {delta_nu:.2f} muHz')"
   ]
  },
  {
   "cell_type": "markdown",
   "metadata": {},
   "source": [
    "## Simple asymptotics"
   ]
  },
  {
   "cell_type": "code",
   "execution_count": 17,
   "metadata": {},
   "outputs": [],
   "source": [
    "def linear_model(n, nu=None, nu_err=None):\n",
    "    delta_nu = numpyro.sample('delta_nu', dist.Normal(140.74, 1.0))\n",
    "    epsilon = numpyro.sample('epsilon', dist.Normal(1.2, 0.5))\n",
    "    sigma = numpyro.sample('sigma', dist.HalfNormal(1.0))\n",
    "    noise = numpyro.sample('noise', dist.HalfNormal(0.1), obs=nu_err)\n",
    "    \n",
    "    loc = delta_nu * (n + epsilon)\n",
    "    scale = jnp.sqrt(sigma**2 + noise**2)\n",
    "    \n",
    "    numpyro.sample('nu', dist.Normal(loc, scale), obs=nu)"
   ]
  },
  {
   "cell_type": "code",
   "execution_count": 19,
   "metadata": {},
   "outputs": [],
   "source": [
    "# n_pred = np.linspace(n.min(), n.max(), 250)\n",
    "\n",
    "rng_key = random.PRNGKey(0)\n",
    "\n",
    "prior_predictive = Predictive(linear_model, num_samples=1000)\n",
    "prior_pred = prior_predictive(rng_key, n)"
   ]
  },
  {
   "cell_type": "code",
   "execution_count": 22,
   "metadata": {},
   "outputs": [
    {
     "ename": "AttributeError",
     "evalue": "'DeviceArray' object has no attribute 'mena'",
     "output_type": "error",
     "traceback": [
      "\u001b[0;31m---------------------------------------------------------------------------\u001b[0m",
      "\u001b[0;31mAttributeError\u001b[0m                            Traceback (most recent call last)",
      "\u001b[0;32m<ipython-input-22-3016bc07f22a>\u001b[0m in \u001b[0;36m<module>\u001b[0;34m\u001b[0m\n\u001b[0;32m----> 1\u001b[0;31m \u001b[0mprior_pred\u001b[0m\u001b[0;34m[\u001b[0m\u001b[0;34m'nu'\u001b[0m\u001b[0;34m]\u001b[0m\u001b[0;34m.\u001b[0m\u001b[0mmena\u001b[0m\u001b[0;34m(\u001b[0m\u001b[0maxis\u001b[0m\u001b[0;34m=\u001b[0m\u001b[0;36m0\u001b[0m\u001b[0;34m)\u001b[0m\u001b[0;34m\u001b[0m\u001b[0;34m\u001b[0m\u001b[0m\n\u001b[0m",
      "\u001b[0;31mAttributeError\u001b[0m: 'DeviceArray' object has no attribute 'mena'"
     ]
    }
   ],
   "source": [
    "prior_pred['nu'].mean(axis=0)"
   ]
  },
  {
   "cell_type": "code",
   "execution_count": null,
   "metadata": {},
   "outputs": [],
   "source": []
  }
 ],
 "metadata": {
  "kernelspec": {
   "display_name": "Python 3.8 (AsteroGlitch)",
   "language": "python",
   "name": "asteroglitch"
  },
  "language_info": {
   "codemirror_mode": {
    "name": "ipython",
    "version": 3
   },
   "file_extension": ".py",
   "mimetype": "text/x-python",
   "name": "python",
   "nbconvert_exporter": "python",
   "pygments_lexer": "ipython3",
   "version": "3.8.6"
  }
 },
 "nbformat": 4,
 "nbformat_minor": 4
}

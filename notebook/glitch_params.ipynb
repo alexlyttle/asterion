{
 "cells": [
  {
   "cell_type": "code",
   "execution_count": 8,
   "metadata": {},
   "outputs": [],
   "source": [
    "import os\n",
    "import pandas as pd\n",
    "import matplotlib.pyplot as plt"
   ]
  },
  {
   "cell_type": "code",
   "execution_count": 15,
   "metadata": {},
   "outputs": [
    {
     "data": {
      "text/html": [
       "<div>\n",
       "<style scoped>\n",
       "    .dataframe tbody tr th:only-of-type {\n",
       "        vertical-align: middle;\n",
       "    }\n",
       "\n",
       "    .dataframe tbody tr th {\n",
       "        vertical-align: top;\n",
       "    }\n",
       "\n",
       "    .dataframe thead th {\n",
       "        text-align: right;\n",
       "    }\n",
       "</style>\n",
       "<table border=\"1\" class=\"dataframe\">\n",
       "  <thead>\n",
       "    <tr style=\"text-align: right;\">\n",
       "      <th></th>\n",
       "      <th>filename</th>\n",
       "      <th>tau_he</th>\n",
       "      <th>delta_he</th>\n",
       "      <th>amp_he</th>\n",
       "      <th>tau_cz</th>\n",
       "    </tr>\n",
       "  </thead>\n",
       "  <tbody>\n",
       "    <tr>\n",
       "      <th>0</th>\n",
       "      <td>profile1.data.GYRE</td>\n",
       "      <td>435598.551774</td>\n",
       "      <td>29253.574284</td>\n",
       "      <td>0.036603</td>\n",
       "      <td>394474.456998</td>\n",
       "    </tr>\n",
       "    <tr>\n",
       "      <th>1</th>\n",
       "      <td>profile10.data.GYRE</td>\n",
       "      <td>13984.934542</td>\n",
       "      <td>879.840440</td>\n",
       "      <td>0.010117</td>\n",
       "      <td>37091.873109</td>\n",
       "    </tr>\n",
       "    <tr>\n",
       "      <th>2</th>\n",
       "      <td>profile100.data.GYRE</td>\n",
       "      <td>5495.902945</td>\n",
       "      <td>321.607000</td>\n",
       "      <td>0.006147</td>\n",
       "      <td>17604.184533</td>\n",
       "    </tr>\n",
       "    <tr>\n",
       "      <th>3</th>\n",
       "      <td>profile1000.data.GYRE</td>\n",
       "      <td>12494.664305</td>\n",
       "      <td>946.590160</td>\n",
       "      <td>0.015383</td>\n",
       "      <td>31657.581154</td>\n",
       "    </tr>\n",
       "    <tr>\n",
       "      <th>4</th>\n",
       "      <td>profile1001.data.GYRE</td>\n",
       "      <td>12667.641820</td>\n",
       "      <td>959.478891</td>\n",
       "      <td>0.015464</td>\n",
       "      <td>32040.657456</td>\n",
       "    </tr>\n",
       "  </tbody>\n",
       "</table>\n",
       "</div>"
      ],
      "text/plain": [
       "                filename         tau_he      delta_he    amp_he         tau_cz\n",
       "0     profile1.data.GYRE  435598.551774  29253.574284  0.036603  394474.456998\n",
       "1    profile10.data.GYRE   13984.934542    879.840440  0.010117   37091.873109\n",
       "2   profile100.data.GYRE    5495.902945    321.607000  0.006147   17604.184533\n",
       "3  profile1000.data.GYRE   12494.664305    946.590160  0.015383   31657.581154\n",
       "4  profile1001.data.GYRE   12667.641820    959.478891  0.015464   32040.657456"
      ]
     },
     "execution_count": 15,
     "metadata": {},
     "output_type": "execute_result"
    }
   ],
   "source": [
    "df_in = pd.read_csv('data/prior/m1.0Y0.26FeH0.0MLT2.1ov0.003556dif1/profiles/glitch_params.csv')\n",
    "df_in.head()"
   ]
  },
  {
   "cell_type": "code",
   "execution_count": 16,
   "metadata": {},
   "outputs": [],
   "source": [
    "def model_num_from_path(path):\n",
    "    filename = os.path.basename(path)\n",
    "    return int(filename.split('.')[0][7:])\n",
    "\n",
    "df_in['model_number'] = df_in['filename'].apply(model_num_from_path)"
   ]
  },
  {
   "cell_type": "code",
   "execution_count": 17,
   "metadata": {},
   "outputs": [
    {
     "data": {
      "text/html": [
       "<div>\n",
       "<style scoped>\n",
       "    .dataframe tbody tr th:only-of-type {\n",
       "        vertical-align: middle;\n",
       "    }\n",
       "\n",
       "    .dataframe tbody tr th {\n",
       "        vertical-align: top;\n",
       "    }\n",
       "\n",
       "    .dataframe thead th {\n",
       "        text-align: right;\n",
       "    }\n",
       "</style>\n",
       "<table border=\"1\" class=\"dataframe\">\n",
       "  <thead>\n",
       "    <tr style=\"text-align: right;\">\n",
       "      <th></th>\n",
       "      <th>filename</th>\n",
       "      <th>tau_he</th>\n",
       "      <th>delta_he</th>\n",
       "      <th>amp_he</th>\n",
       "      <th>tau_cz</th>\n",
       "      <th>model_number</th>\n",
       "    </tr>\n",
       "  </thead>\n",
       "  <tbody>\n",
       "    <tr>\n",
       "      <th>0</th>\n",
       "      <td>profile1.data.GYRE</td>\n",
       "      <td>435598.551774</td>\n",
       "      <td>29253.574284</td>\n",
       "      <td>0.036603</td>\n",
       "      <td>394474.456998</td>\n",
       "      <td>1</td>\n",
       "    </tr>\n",
       "    <tr>\n",
       "      <th>1</th>\n",
       "      <td>profile2.data.GYRE</td>\n",
       "      <td>17058.560491</td>\n",
       "      <td>858.047335</td>\n",
       "      <td>0.008685</td>\n",
       "      <td>43819.925995</td>\n",
       "      <td>2</td>\n",
       "    </tr>\n",
       "    <tr>\n",
       "      <th>2</th>\n",
       "      <td>profile3.data.GYRE</td>\n",
       "      <td>16143.478127</td>\n",
       "      <td>813.457539</td>\n",
       "      <td>0.008484</td>\n",
       "      <td>41943.150809</td>\n",
       "      <td>3</td>\n",
       "    </tr>\n",
       "    <tr>\n",
       "      <th>3</th>\n",
       "      <td>profile4.data.GYRE</td>\n",
       "      <td>15626.169492</td>\n",
       "      <td>1073.193916</td>\n",
       "      <td>0.011599</td>\n",
       "      <td>40588.447153</td>\n",
       "      <td>4</td>\n",
       "    </tr>\n",
       "    <tr>\n",
       "      <th>4</th>\n",
       "      <td>profile5.data.GYRE</td>\n",
       "      <td>15149.939792</td>\n",
       "      <td>1041.583128</td>\n",
       "      <td>0.011451</td>\n",
       "      <td>39583.662802</td>\n",
       "      <td>5</td>\n",
       "    </tr>\n",
       "  </tbody>\n",
       "</table>\n",
       "</div>"
      ],
      "text/plain": [
       "             filename         tau_he      delta_he    amp_he         tau_cz  \\\n",
       "0  profile1.data.GYRE  435598.551774  29253.574284  0.036603  394474.456998   \n",
       "1  profile2.data.GYRE   17058.560491    858.047335  0.008685   43819.925995   \n",
       "2  profile3.data.GYRE   16143.478127    813.457539  0.008484   41943.150809   \n",
       "3  profile4.data.GYRE   15626.169492   1073.193916  0.011599   40588.447153   \n",
       "4  profile5.data.GYRE   15149.939792   1041.583128  0.011451   39583.662802   \n",
       "\n",
       "   model_number  \n",
       "0             1  \n",
       "1             2  \n",
       "2             3  \n",
       "3             4  \n",
       "4             5  "
      ]
     },
     "execution_count": 17,
     "metadata": {},
     "output_type": "execute_result"
    }
   ],
   "source": [
    "df = df_in.sort_values('model_number', ignore_index=True)\n",
    "df.head()"
   ]
  },
  {
   "cell_type": "code",
   "execution_count": 18,
   "metadata": {},
   "outputs": [
    {
     "data": {
      "text/plain": [
       "<AxesSubplot:>"
      ]
     },
     "execution_count": 18,
     "metadata": {},
     "output_type": "execute_result"
    },
    {
     "data": {
      "image/png": "[encoded data removed]",
      "text/plain": [
       "<Figure size 432x288 with 1 Axes>"
      ]
     },
     "metadata": {
      "needs_background": "light"
     },
     "output_type": "display_data"
    }
   ],
   "source": [
    "df.plot(y='tau_he')"
   ]
  },
  {
   "cell_type": "code",
   "execution_count": 19,
   "metadata": {},
   "outputs": [
    {
     "data": {
      "text/plain": [
       "<AxesSubplot:>"
      ]
     },
     "execution_count": 19,
     "metadata": {},
     "output_type": "execute_result"
    },
    {
     "data": {
      "image/png": "[encoded data removed]",
      "text/plain": [
       "<Figure size 432x288 with 1 Axes>"
      ]
     },
     "metadata": {
      "needs_background": "light"
     },
     "output_type": "display_data"
    }
   ],
   "source": [
    "df.plot(y='tau_cz')"
   ]
  },
  {
   "cell_type": "code",
   "execution_count": 20,
   "metadata": {},
   "outputs": [
    {
     "data": {
      "text/plain": [
       "<AxesSubplot:>"
      ]
     },
     "execution_count": 20,
     "metadata": {},
     "output_type": "execute_result"
    },
    {
     "data": {
      "image/png": "[encoded data removed]",
      "text/plain": [
       "<Figure size 432x288 with 1 Axes>"
      ]
     },
     "metadata": {
      "needs_background": "light"
     },
     "output_type": "display_data"
    }
   ],
   "source": [
    "df.plot(y='delta_he')"
   ]
  },
  {
   "cell_type": "code",
   "execution_count": 21,
   "metadata": {},
   "outputs": [
    {
     "data": {
      "text/plain": [
       "<AxesSubplot:>"
      ]
     },
     "execution_count": 21,
     "metadata": {},
     "output_type": "execute_result"
    },
    {
     "data": {
      "image/png": "[encoded data removed]",
      "text/plain": [
       "<Figure size 432x288 with 1 Axes>"
      ]
     },
     "metadata": {
      "needs_background": "light"
     },
     "output_type": "display_data"
    }
   ],
   "source": [
    "df.plot(y='amp_he')"
   ]
  },
  {
   "cell_type": "code",
   "execution_count": null,
   "metadata": {},
   "outputs": [],
   "source": []
  }
 ],
 "metadata": {
  "kernelspec": {
   "display_name": "Python 3.8 (AsteroGlitch)",
   "language": "python",
   "name": "asteroglitch"
  },
  "language_info": {
   "codemirror_mode": {
    "name": "ipython",
    "version": 3
   },
   "file_extension": ".py",
   "mimetype": "text/x-python",
   "name": "python",
   "nbconvert_exporter": "python",
   "pygments_lexer": "ipython3",
   "version": "3.8.6"
  }
 },
 "nbformat": 4,
 "nbformat_minor": 4
}

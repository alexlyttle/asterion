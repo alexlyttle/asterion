{
 "cells": [
  {
   "cell_type": "code",
   "execution_count": 2,
   "metadata": {},
   "outputs": [],
   "source": [
    "import jax \n",
    "import jax.numpy as jnp\n",
    "from jax import random\n",
    "\n",
    "import numpyro\n",
    "import numpyro.distributions as dist\n",
    "\n",
    "numpyro.set_host_device_count(5)\n",
    "numpyro.enable_x64()"
   ]
  },
  {
   "cell_type": "code",
   "execution_count": 22,
   "metadata": {},
   "outputs": [],
   "source": [
    "class Mean(object):    \n",
    "    def _model(self, x):\n",
    "        raise NotImplementedError\n",
    "\n",
    "    def __call__(self, x):\n",
    "        return self._model(x)\n",
    "\n",
    "    def __add__(self, obj):\n",
    "        def _model(x):\n",
    "            return self._model(x) + obj._model(x)\n",
    "        mean = Mean()\n",
    "        mean._model = _model\n",
    "        return mean\n",
    "        \n",
    "\n",
    "class Linear(Mean):\n",
    "    def __init__(self, a, b=0.0):\n",
    "        self.a = a\n",
    "        self.b = b\n",
    "\n",
    "    def _model(self, x):\n",
    "        return self.a + self.b * x\n",
    "\n",
    "\n",
    "class Sin(Mean):\n",
    "    def __init__(self, frequency, phase=0.0):\n",
    "        self.frequency = frequency\n",
    "        self.phase = phase\n",
    "\n",
    "    def _model(self, x):\n",
    "        return jnp.sin(self.frequency * x + self.phase)"
   ]
  },
  {
   "cell_type": "code",
   "execution_count": 23,
   "metadata": {},
   "outputs": [],
   "source": [
    "linear = Linear(2.0, b=-5.0)\n",
    "cos = Sin(4.0, phase=0.5*jnp.pi)\n",
    "mean = linear + cos"
   ]
  },
  {
   "cell_type": "code",
   "execution_count": null,
   "metadata": {},
   "outputs": [],
   "source": [
    "class Likelihood:\n",
    "    pass\n",
    "\n",
    "class GPLikelihood:\n",
    "    def __init__(self, mean)"
   ]
  }
 ],
 "metadata": {
  "kernelspec": {
   "display_name": "Python 3.8 (AsteroGlitch)",
   "language": "python",
   "name": "asteroglitch"
  },
  "language_info": {
   "codemirror_mode": {
    "name": "ipython",
    "version": 3
   },
   "file_extension": ".py",
   "mimetype": "text/x-python",
   "name": "python",
   "nbconvert_exporter": "python",
   "pygments_lexer": "ipython3",
   "version": "3.8.6"
  }
 },
 "nbformat": 4,
 "nbformat_minor": 4
}

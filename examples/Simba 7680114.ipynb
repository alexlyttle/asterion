{
 "cells": [
  {
   "cell_type": "markdown",
   "id": "0cdc736e",
   "metadata": {},
   "source": [
    "# 7680114\n",
    "\n",
    "Using p-mode frequencies determined in Lund et al. (2017).\n",
    "\n",
    "7680114 Simba 10.07 1709 85.1 41 Simple 5.1 − 17.2 6, 7.2, 10 5811 ± 77"
   ]
  },
  {
   "cell_type": "code",
   "execution_count": 1,
   "id": "75af3c90",
   "metadata": {},
   "outputs": [],
   "source": [
    "import numpy as np\n",
    "import asterion as ast\n",
    "from asterion import GlitchModel, Inference\n",
    "import matplotlib.pyplot as plt\n",
    "\n",
    "ast.style.use(\"asterion-light\")"
   ]
  },
  {
   "cell_type": "code",
   "execution_count": 2,
   "id": "9e26ba6f",
   "metadata": {},
   "outputs": [],
   "source": [
    "# Lund et al. (2017)\n",
    "nu_max = (1709, 15)  # in microhertz\n",
    "delta_nu = (85.1, 1.5)   # in microhertz\n",
    "teff = (5811, 150)    # in Kelvin"
   ]
  },
  {
   "cell_type": "code",
   "execution_count": 3,
   "id": "07c1b3fb",
   "metadata": {},
   "outputs": [],
   "source": [
    "from astroquery.vizier import Vizier"
   ]
  },
  {
   "cell_type": "code",
   "execution_count": 4,
   "id": "7e6f5956",
   "metadata": {},
   "outputs": [
    {
     "name": "stderr",
     "output_type": "stream",
     "text": [
      "WARNING: UnitsWarning: Unit 'ppm' not supported by the VOUnit standard. Did you mean Pm or pm? [astropy.units.format.vounit]\n",
      "WARNING:astroquery:UnitsWarning: Unit 'ppm' not supported by the VOUnit standard. Did you mean Pm or pm?\n"
     ]
    }
   ],
   "source": [
    "v = Vizier(row_limit=-1)\n",
    "tables = v.query_constraints(\"J/ApJ/835/172/table6\", KIC=\"7680114\")"
   ]
  },
  {
   "cell_type": "code",
   "execution_count": 5,
   "id": "8c45bbe8",
   "metadata": {},
   "outputs": [
    {
     "data": {
      "text/html": [
       "<div>\n",
       "<style scoped>\n",
       "    .dataframe tbody tr th:only-of-type {\n",
       "        vertical-align: middle;\n",
       "    }\n",
       "\n",
       "    .dataframe tbody tr th {\n",
       "        vertical-align: top;\n",
       "    }\n",
       "\n",
       "    .dataframe thead th {\n",
       "        text-align: right;\n",
       "    }\n",
       "</style>\n",
       "<table border=\"1\" class=\"dataframe\">\n",
       "  <thead>\n",
       "    <tr style=\"text-align: right;\">\n",
       "      <th></th>\n",
       "      <th>KIC</th>\n",
       "      <th>n</th>\n",
       "      <th>l</th>\n",
       "      <th>Freq</th>\n",
       "      <th>e_Freq</th>\n",
       "      <th>E_Freq</th>\n",
       "      <th>Amp</th>\n",
       "      <th>e_Amp</th>\n",
       "      <th>E_Amp</th>\n",
       "      <th>Width</th>\n",
       "      <th>e_Width</th>\n",
       "      <th>E_Width</th>\n",
       "      <th>l_lnK</th>\n",
       "      <th>lnK</th>\n",
       "    </tr>\n",
       "  </thead>\n",
       "  <tbody>\n",
       "    <tr>\n",
       "      <th>0</th>\n",
       "      <td>7680114</td>\n",
       "      <td>11</td>\n",
       "      <td>1</td>\n",
       "      <td>1094.89162</td>\n",
       "      <td>0.18334</td>\n",
       "      <td>0.17647</td>\n",
       "      <td>NaN</td>\n",
       "      <td>NaN</td>\n",
       "      <td>NaN</td>\n",
       "      <td>NaN</td>\n",
       "      <td>NaN</td>\n",
       "      <td>NaN</td>\n",
       "      <td></td>\n",
       "      <td>2.20</td>\n",
       "    </tr>\n",
       "    <tr>\n",
       "      <th>1</th>\n",
       "      <td>7680114</td>\n",
       "      <td>11</td>\n",
       "      <td>2</td>\n",
       "      <td>1136.49259</td>\n",
       "      <td>0.38784</td>\n",
       "      <td>0.36295</td>\n",
       "      <td>NaN</td>\n",
       "      <td>NaN</td>\n",
       "      <td>NaN</td>\n",
       "      <td>NaN</td>\n",
       "      <td>NaN</td>\n",
       "      <td>NaN</td>\n",
       "      <td></td>\n",
       "      <td>0.38</td>\n",
       "    </tr>\n",
       "    <tr>\n",
       "      <th>2</th>\n",
       "      <td>7680114</td>\n",
       "      <td>12</td>\n",
       "      <td>0</td>\n",
       "      <td>1142.63292</td>\n",
       "      <td>0.19518</td>\n",
       "      <td>0.22368</td>\n",
       "      <td>1.18672</td>\n",
       "      <td>0.18564</td>\n",
       "      <td>0.13053</td>\n",
       "      <td>0.51903</td>\n",
       "      <td>0.22053</td>\n",
       "      <td>0.30861</td>\n",
       "      <td></td>\n",
       "      <td>2.49</td>\n",
       "    </tr>\n",
       "    <tr>\n",
       "      <th>3</th>\n",
       "      <td>7680114</td>\n",
       "      <td>12</td>\n",
       "      <td>1</td>\n",
       "      <td>1179.70485</td>\n",
       "      <td>0.20785</td>\n",
       "      <td>0.21855</td>\n",
       "      <td>NaN</td>\n",
       "      <td>NaN</td>\n",
       "      <td>NaN</td>\n",
       "      <td>NaN</td>\n",
       "      <td>NaN</td>\n",
       "      <td>NaN</td>\n",
       "      <td></td>\n",
       "      <td>1.71</td>\n",
       "    </tr>\n",
       "    <tr>\n",
       "      <th>4</th>\n",
       "      <td>7680114</td>\n",
       "      <td>12</td>\n",
       "      <td>2</td>\n",
       "      <td>1220.91223</td>\n",
       "      <td>0.32977</td>\n",
       "      <td>0.28715</td>\n",
       "      <td>NaN</td>\n",
       "      <td>NaN</td>\n",
       "      <td>NaN</td>\n",
       "      <td>NaN</td>\n",
       "      <td>NaN</td>\n",
       "      <td>NaN</td>\n",
       "      <td>&gt;</td>\n",
       "      <td>6.00</td>\n",
       "    </tr>\n",
       "  </tbody>\n",
       "</table>\n",
       "</div>"
      ],
      "text/plain": [
       "       KIC   n  l        Freq   e_Freq   E_Freq      Amp    e_Amp    E_Amp  \\\n",
       "0  7680114  11  1  1094.89162  0.18334  0.17647      NaN      NaN      NaN   \n",
       "1  7680114  11  2  1136.49259  0.38784  0.36295      NaN      NaN      NaN   \n",
       "2  7680114  12  0  1142.63292  0.19518  0.22368  1.18672  0.18564  0.13053   \n",
       "3  7680114  12  1  1179.70485  0.20785  0.21855      NaN      NaN      NaN   \n",
       "4  7680114  12  2  1220.91223  0.32977  0.28715      NaN      NaN      NaN   \n",
       "\n",
       "     Width  e_Width  E_Width l_lnK   lnK  \n",
       "0      NaN      NaN      NaN        2.20  \n",
       "1      NaN      NaN      NaN        0.38  \n",
       "2  0.51903  0.22053  0.30861        2.49  \n",
       "3      NaN      NaN      NaN        1.71  \n",
       "4      NaN      NaN      NaN     >  6.00  "
      ]
     },
     "execution_count": 5,
     "metadata": {},
     "output_type": "execute_result"
    }
   ],
   "source": [
    "df = tables[0].to_pandas()\n",
    "df.head()"
   ]
  },
  {
   "cell_type": "code",
   "execution_count": 6,
   "id": "4ff875ef",
   "metadata": {},
   "outputs": [],
   "source": [
    "mask = df[\"l\"] == 0  # radial orders only\n",
    "n = df.loc[mask, \"n\"].to_numpy()\n",
    "nu, nu_low, nu_high = df.loc[mask, [\"Freq\", \"e_Freq\", \"E_Freq\"]].to_numpy().T"
   ]
  },
  {
   "cell_type": "code",
   "execution_count": 7,
   "id": "12df6fb9",
   "metadata": {},
   "outputs": [],
   "source": [
    "nu_err = np.stack([nu_low, nu_high]).max(axis=0)"
   ]
  },
  {
   "cell_type": "code",
   "execution_count": 8,
   "id": "7aecbfcb",
   "metadata": {},
   "outputs": [],
   "source": [
    "model = GlitchModel(nu_max, delta_nu, teff=teff)"
   ]
  },
  {
   "cell_type": "code",
   "execution_count": 9,
   "id": "bed270a3",
   "metadata": {},
   "outputs": [],
   "source": [
    "infer = Inference(model, n=n, nu=nu, nu_err=nu_err, seed=10)\n",
    "infer.prior_predictive()  # <-- check prior is sensible\n",
    "prior_data = infer.get_data()"
   ]
  },
  {
   "cell_type": "code",
   "execution_count": 10,
   "id": "e0d6b50d",
   "metadata": {},
   "outputs": [
    {
     "data": {
      "image/png": "[encoded data removed]",
      "text/plain": [
       "<Figure size 432x288 with 1 Axes>"
      ]
     },
     "metadata": {
      "needs_background": "light"
     },
     "output_type": "display_data"
    }
   ],
   "source": [
    "ast.plot_glitch(prior_data, group='prior');"
   ]
  },
  {
   "cell_type": "code",
   "execution_count": 11,
   "id": "688b41e5",
   "metadata": {},
   "outputs": [
    {
     "data": {
      "image/png": "[encoded data removed]",
      "text/plain": [
       "<Figure size 432x288 with 1 Axes>"
      ]
     },
     "metadata": {
      "needs_background": "light"
     },
     "output_type": "display_data"
    }
   ],
   "source": [
    "ast.plot_echelle(prior_data, group='prior');"
   ]
  },
  {
   "cell_type": "code",
   "execution_count": null,
   "id": "7d687459",
   "metadata": {},
   "outputs": [
    {
     "name": "stdout",
     "output_type": "stream",
     "text": [
      "Running nested sampling using the 'multi_ellipsoid' sampler with 50 live points and 50000 maximum samples...\n"
     ]
    },
    {
     "name": "stderr",
     "output_type": "stream",
     "text": [
      "/Users/grd/Repos/matriculate/matriculate_env/lib/python3.9/site-packages/jaxns/nested_sampling.py:293: FutureWarning: jax.tree_map is deprecated, and will be removed in a future release. Use jax.tree_util.tree_map instead.\n",
      "  x_dead_new = tree_map(lambda x: x[i_min], state.live_points_X)\n",
      "/Users/grd/Repos/matriculate/matriculate_env/lib/python3.9/site-packages/jaxns/nested_sampling.py:550: FutureWarning: jax.tree_multimap is deprecated, and will be removed in a future release. Use jax.tree_util.tree_multimap instead.\n",
      "  live_points_U = tree_multimap(\n",
      "/Users/grd/Repos/matriculate/matriculate_env/lib/python3.9/site-packages/jax/_src/tree_util.py:205: FutureWarning: jax.tree_util.tree_multimap() is deprecated. Please use jax.tree_util.tree_map() instead as a drop-in replacement.\n",
      "  warnings.warn('jax.tree_util.tree_multimap() is deprecated. Please use jax.tree_util.tree_map() '\n",
      "/Users/grd/Repos/matriculate/matriculate_env/lib/python3.9/site-packages/jaxns/nested_sampling.py:553: FutureWarning: jax.tree_multimap is deprecated, and will be removed in a future release. Use jax.tree_util.tree_multimap instead.\n",
      "  live_points_X = tree_multimap(\n",
      "/Users/grd/Repos/matriculate/matriculate_env/lib/python3.9/site-packages/jaxns/nested_sampling.py:416: FutureWarning: jax.tree_map is deprecated, and will be removed in a future release. Use jax.tree_util.tree_map instead.\n",
      "  sample_U = list(tree_map(lambda x: x[choice], state.live_points_U))\n"
     ]
    }
   ],
   "source": [
    "infer.sample()\n",
    "infer.posterior_predictive()\n",
    "data = infer.get_data()"
   ]
  },
  {
   "cell_type": "code",
   "execution_count": null,
   "id": "1f9e3e8d",
   "metadata": {},
   "outputs": [],
   "source": [
    "ast.plot_glitch(data, kind='He');"
   ]
  },
  {
   "cell_type": "code",
   "execution_count": null,
   "id": "fd150b33",
   "metadata": {},
   "outputs": [],
   "source": [
    "ax = ast.plot_glitch(data, kind='CZ')\n",
    "ax.set_ylim(-0.1, 0.1)"
   ]
  },
  {
   "cell_type": "code",
   "execution_count": null,
   "id": "db71e5af",
   "metadata": {},
   "outputs": [],
   "source": [
    "ast.plot_echelle(data);"
   ]
  },
  {
   "cell_type": "code",
   "execution_count": null,
   "id": "e0c0ffd4",
   "metadata": {},
   "outputs": [],
   "source": [
    "ast.plot_echelle(data, kind='glitchless');"
   ]
  },
  {
   "cell_type": "code",
   "execution_count": null,
   "id": "2dc04050",
   "metadata": {},
   "outputs": [],
   "source": [
    "ast.plot_corner(data, var_names=['log_a_he', 'log_b_he', 'log_tau_he', 'phi_he', 'he_amplitude']);"
   ]
  },
  {
   "cell_type": "code",
   "execution_count": null,
   "id": "593f68e4",
   "metadata": {},
   "outputs": [],
   "source": [
    "ast.plot_corner(data, var_names=['log_a_cz', 'log_tau_cz', 'phi_cz', 'cz_amplitude']);"
   ]
  },
  {
   "cell_type": "code",
   "execution_count": null,
   "id": "1742b98d",
   "metadata": {},
   "outputs": [],
   "source": [
    "ast.plot_corner(data, var_names=['delta_nu', 'epsilon']);"
   ]
  },
  {
   "cell_type": "code",
   "execution_count": null,
   "id": "7ab49d1a",
   "metadata": {},
   "outputs": [],
   "source": []
  }
 ],
 "metadata": {
  "kernelspec": {
   "display_name": "Python 3 (ipykernel)",
   "language": "python",
   "name": "python3"
  },
  "language_info": {
   "codemirror_mode": {
    "name": "ipython",
    "version": 3
   },
   "file_extension": ".py",
   "mimetype": "text/x-python",
   "name": "python",
   "nbconvert_exporter": "python",
   "pygments_lexer": "ipython3",
   "version": "3.9.1"
  }
 },
 "nbformat": 4,
 "nbformat_minor": 5
}
